{
 "cells": [
  {
   "cell_type": "code",
   "execution_count": 1,
   "id": "4c069e32",
   "metadata": {},
   "outputs": [],
   "source": [
    "import random\n",
    "\n",
    "suits = ('Hearts','Diamonds','Spades','Clubs')\n",
    "ranks = ('Two','Three','Four','Five','Six','Seven','Eight','Nine','Ten',\n",
    "         'Jack','Queen','King','Ace')\n",
    "values = {'Two':2,'Three':3,'Four':4,'Five':5,'Six':6,'Seven':7,'Eight':8,\n",
    "          'Nine':9,'Ten':10,'Jack':10,'Queen':10,'King':10,'Ace':11}\n",
    "\n",
    "playing = True"
   ]
  },
  {
   "cell_type": "code",
   "execution_count": 2,
   "id": "4656fc09",
   "metadata": {},
   "outputs": [],
   "source": [
    "class Card():\n",
    "\n",
    "    def __init__(self,suit,rank):\n",
    "        self.suit = suit\n",
    "        self.rank = rank\n",
    "\n",
    "    def __str__(self):\n",
    "        return self.rank + ' of ' + self.suit"
   ]
  },
  {
   "cell_type": "code",
   "execution_count": 3,
   "id": "c125fb72",
   "metadata": {},
   "outputs": [],
   "source": [
    "class Deck(): # the current deck used\n",
    "\n",
    "    def __init__(self):\n",
    "        self.deck = [] # start with an empty list\n",
    "        for suit in suits:\n",
    "            for rank in ranks:\n",
    "                self.deck.append(Card(suit,rank))\n",
    "\n",
    "    def __str__(self):\n",
    "        deck_comp = ''\n",
    "        for card in self.deck:\n",
    "            deck_comp += '\\n' + card.__str__()\n",
    "        return \"The deck has: \" + deck_comp\n",
    "\n",
    "    def shuffle(self):\n",
    "        random.shuffle(self.deck)\n",
    "        \n",
    "    def deal(self):\n",
    "        return self.deck.pop(0)"
   ]
  },
  {
   "cell_type": "code",
   "execution_count": 4,
   "id": "298d4fa2",
   "metadata": {},
   "outputs": [],
   "source": [
    "# test_deck = Deck()\n",
    "# test_deck.shuffle()\n",
    "# print(test_deck)"
   ]
  },
  {
   "cell_type": "code",
   "execution_count": 5,
   "id": "d8b23308",
   "metadata": {},
   "outputs": [],
   "source": [
    "class Hand(): # current cards that someone possess\n",
    "\n",
    "    def __init__(self):\n",
    "        self.cards = [] # start with empty list\n",
    "        self.value = 0 # start with zero value\n",
    "        self.aces = 0 #add an attribute to keep track of aces\n",
    "\n",
    "    def add_card(self,card):\n",
    "        # card passed in\n",
    "        # from Deck.deal() --> single Card(suit,rank)\n",
    "        self.cards.append(card)\n",
    "        self.value += values[card.rank]\n",
    "\n",
    "        # track aces\n",
    "        if card.rank == 'Ace':\n",
    "            self.aces += 1\n",
    "\n",
    "    def adjust_for_ace(self):\n",
    "        while self.value > 21 and self.aces > 0:\n",
    "            self.value -= 10\n",
    "            self.aces -=  1"
   ]
  },
  {
   "cell_type": "code",
   "execution_count": 6,
   "id": "cbe56573",
   "metadata": {},
   "outputs": [],
   "source": [
    "# test_deck = Deck()\n",
    "# test_deck.shuffle()\n",
    "\n",
    "## Player\n",
    "#test_player = Hand()\n",
    "#pulled_card = test_deck.deal()\n",
    "#print(pulled_card)\n",
    "#test_player.add_card(pulled_card)\n",
    "#print(test_player.value)"
   ]
  },
  {
   "cell_type": "code",
   "execution_count": 7,
   "id": "8a82a2c6",
   "metadata": {},
   "outputs": [],
   "source": [
    "class Chips(): # track of total money on hand\n",
    "    \n",
    "    def __init__(self,total=100):\n",
    "        self.total = total\n",
    "        self.bet = 0\n",
    "    \n",
    "    def win_bet(self):\n",
    "        self.total += self.bet\n",
    "    \n",
    "    def lose_bet(self):\n",
    "        self.total -= self.bet"
   ]
  },
  {
   "cell_type": "code",
   "execution_count": 8,
   "id": "e1ee46bb",
   "metadata": {},
   "outputs": [],
   "source": [
    "def take_bet(chips):\n",
    "    while True:\n",
    "        try:\n",
    "            chips.bet = int(input(\"How many chips you want to bet? \"))\n",
    "        except:\n",
    "            print(\"Please provide an integer\")\n",
    "        else:\n",
    "            if chips.bet > chips.total:\n",
    "                print(f\"You don't have enough chips, you have: {chips.total}\")\n",
    "            else:\n",
    "                break"
   ]
  },
  {
   "cell_type": "code",
   "execution_count": 9,
   "id": "c91f60fb",
   "metadata": {},
   "outputs": [],
   "source": [
    "def hit(deck,hand):\n",
    "    single_card = deck.deal()\n",
    "    hand.add_card(single_card)\n",
    "    hand.adjust_for_ace()"
   ]
  },
  {
   "cell_type": "code",
   "execution_count": 10,
   "id": "b934e487",
   "metadata": {},
   "outputs": [],
   "source": [
    "def hit_or_stand(deck,hand):\n",
    "    global playing # control upcoming while loop\n",
    "\n",
    "    while True:\n",
    "        x = input(\"Hit or Stand? Enter 'h' or 's'\")\n",
    "        \n",
    "        if x[0].lower() == 'h':\n",
    "            hit(deck,hand)\n",
    "        elif x[0].lower() == 's':\n",
    "            print(\"Player Stands, Dealer's Turn\")\n",
    "            playing = False\n",
    "        else:\n",
    "            print(\"Enter 'h' or 's' only.\")\n",
    "            continue\n",
    "            \n",
    "        break"
   ]
  },
  {
   "cell_type": "code",
   "execution_count": 11,
   "id": "3108c9c6",
   "metadata": {},
   "outputs": [],
   "source": [
    "def show_some(player,dealer):\n",
    "    print(\"--- Dealer's Hand: ---\")\n",
    "    print('one card hidden!')\n",
    "    print(dealer.cards[1])\n",
    "    print('\\n')\n",
    "    print(\"--- Player's Hand: ---\")\n",
    "    \n",
    "    for card in player.cards:\n",
    "        print(card)"
   ]
  },
  {
   "cell_type": "code",
   "execution_count": 12,
   "id": "836eb33a",
   "metadata": {},
   "outputs": [],
   "source": [
    "def show_all(player,dealer):\n",
    "    print(\"--- Dealer's Hand: ---\")\n",
    "    for card in dealer.cards:\n",
    "        print(card)\n",
    "    print('\\n')\n",
    "    print(\"--- Player's Hand: ---\")\n",
    "    for card in player.cards:\n",
    "        print(card)"
   ]
  },
  {
   "cell_type": "code",
   "execution_count": 13,
   "id": "fdda8c62",
   "metadata": {},
   "outputs": [],
   "source": [
    "def player_busts(player,dealer,chips):\n",
    "    print('BUST player')\n",
    "    chips.lose_bet()"
   ]
  },
  {
   "cell_type": "code",
   "execution_count": 14,
   "id": "32b921ce",
   "metadata": {},
   "outputs": [],
   "source": [
    "def player_wins(player,dealer,chips):\n",
    "    print('Player WINS')\n",
    "    chips.win_bet()"
   ]
  },
  {
   "cell_type": "code",
   "execution_count": 15,
   "id": "6c470de0",
   "metadata": {},
   "outputs": [],
   "source": [
    "def dealer_busts(player,dealer,chips):\n",
    "    print('Player WINS, Dealer BUST')\n",
    "    chips.win_bet()"
   ]
  },
  {
   "cell_type": "code",
   "execution_count": 16,
   "id": "8ce5c4cf",
   "metadata": {},
   "outputs": [],
   "source": [
    "def dealer_wins(player,dealer,chips):\n",
    "    print('Dealer WINS')\n",
    "    chips.lose_bet()"
   ]
  },
  {
   "cell_type": "code",
   "execution_count": 17,
   "id": "104e676c",
   "metadata": {},
   "outputs": [],
   "source": [
    "def push(player,dealer):\n",
    "    print('Dealer and player tie! PUSH')"
   ]
  },
  {
   "cell_type": "code",
   "execution_count": 18,
   "id": "496f855f",
   "metadata": {},
   "outputs": [
    {
     "name": "stdout",
     "output_type": "stream",
     "text": [
      "Welcome to blackjack\n",
      "How many chips you want to bet? 99\n",
      "--- Dealer's Hand: ---\n",
      "one card hidden!\n",
      "Jack of Hearts\n",
      "\n",
      "\n",
      "--- Player's Hand: ---\n",
      "Eight of Spades\n",
      "Two of Hearts\n",
      "Hit or Stand? Enter 'h' or 's'h\n",
      "--- Dealer's Hand: ---\n",
      "one card hidden!\n",
      "Jack of Hearts\n",
      "\n",
      "\n",
      "--- Player's Hand: ---\n",
      "Eight of Spades\n",
      "Two of Hearts\n",
      "Eight of Clubs\n",
      "Hit or Stand? Enter 'h' or 's's\n",
      "Player Stands, Dealer's Turn\n",
      "--- Dealer's Hand: ---\n",
      "one card hidden!\n",
      "Jack of Hearts\n",
      "\n",
      "\n",
      "--- Player's Hand: ---\n",
      "Eight of Spades\n",
      "Two of Hearts\n",
      "Eight of Clubs\n",
      "--- Dealer's Hand: ---\n",
      "Ace of Spades\n",
      "Jack of Hearts\n",
      "\n",
      "\n",
      "--- Player's Hand: ---\n",
      "Eight of Spades\n",
      "Two of Hearts\n",
      "Eight of Clubs\n",
      "Dealer WINS\n",
      "\n",
      "Player total chips are at: 1\n",
      "Like to play another hand? y/nn\n",
      "Thank you for playing\n"
     ]
    }
   ],
   "source": [
    "while True:\n",
    "    print(\"Welcome to blackjack\")\n",
    "    \n",
    "    deck = Deck()\n",
    "    deck.shuffle()\n",
    "    \n",
    "    player_hand = Hand()\n",
    "    player_hand.add_card(deck.deal())\n",
    "    player_hand.add_card(deck.deal())\n",
    "    \n",
    "    dealer_hand = Hand()\n",
    "    dealer_hand.add_card(deck.deal())\n",
    "    dealer_hand.add_card(deck.deal())\n",
    "    \n",
    "    player_chips = Chips()\n",
    "    \n",
    "    take_bet(player_chips)\n",
    "    \n",
    "    show_some(player_hand,dealer_hand)\n",
    "    \n",
    "    \n",
    "    while playing:\n",
    "        hit_or_stand(deck,player_hand)\n",
    "        \n",
    "        show_some(player_hand,dealer_hand)\n",
    "        \n",
    "        if player_hand.value > 21:\n",
    "            player_busts(player_hand,dealer_hand,player_chips)\n",
    "            break\n",
    "            \n",
    "    if player_hand.value <= 21:\n",
    "        while dealer_hand.value < 17: # dealer hits until 17 (soft 17 rule)\n",
    "            hit(deck,dealer_hand)\n",
    "\n",
    "        show_all(player_hand,dealer_hand)\n",
    "        \n",
    "        if dealer_hand.value > 21:\n",
    "            dealer_busts(player_hand,dealer_hand,player_chips)\n",
    "        elif dealer_hand.value > player_hand.value:\n",
    "            dealer_wins(player_hand,dealer_hand,player_chips)\n",
    "        elif dealer_hand.value < player_hand.value:\n",
    "            player_wins(player_hand,dealer_hand,player_chips)\n",
    "        else:\n",
    "            push(player_hand,dealer_hand)\n",
    "    \n",
    "    print(f'\\nPlayer total chips are at: {player_chips.total}')\n",
    "    \n",
    "    new_game = input(\"Like to play another hand? y/n\")\n",
    "    \n",
    "    if new_game[0].lower() == 'y':\n",
    "        playing = True\n",
    "        continue\n",
    "    else:\n",
    "        print('Thank you for playing')\n",
    "        break"
   ]
  },
  {
   "cell_type": "code",
   "execution_count": null,
   "id": "8f1c7c1d",
   "metadata": {},
   "outputs": [],
   "source": []
  },
  {
   "cell_type": "code",
   "execution_count": null,
   "id": "dddab867",
   "metadata": {},
   "outputs": [],
   "source": []
  }
 ],
 "metadata": {
  "kernelspec": {
   "display_name": "Python 3",
   "language": "python",
   "name": "python3"
  },
  "language_info": {
   "codemirror_mode": {
    "name": "ipython",
    "version": 3
   },
   "file_extension": ".py",
   "mimetype": "text/x-python",
   "name": "python",
   "nbconvert_exporter": "python",
   "pygments_lexer": "ipython3",
   "version": "3.9.5"
  }
 },
 "nbformat": 4,
 "nbformat_minor": 5
}
