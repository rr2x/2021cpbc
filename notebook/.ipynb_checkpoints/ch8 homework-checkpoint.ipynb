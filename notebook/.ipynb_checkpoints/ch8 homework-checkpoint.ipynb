{
 "cells": [
  {
   "cell_type": "code",
   "execution_count": 21,
   "id": "b57049ef",
   "metadata": {},
   "outputs": [],
   "source": [
    "import math\n",
    "\n",
    "class Line:\n",
    "\n",
    "    x1 = 0\n",
    "    y1 = 0\n",
    "    x2 = 0\n",
    "    y2 = 0\n",
    "\n",
    "    def __init__(self,coor1,coor2):\n",
    "        Line.x1,Line.y1 = coor1\n",
    "        Line.x2,Line.y2 = coor2\n",
    "    \n",
    "    def distance(self):\n",
    "        return math.sqrt(((Line.x2 - Line.x1)**2) + ((Line.y2 - Line.y1)**2))\n",
    "    \n",
    "    def slope(self):\n",
    "        return ((Line.y2 - Line.y1) / (Line.x2 - Line.x1))"
   ]
  },
  {
   "cell_type": "code",
   "execution_count": 22,
   "id": "8501a384",
   "metadata": {},
   "outputs": [
    {
     "name": "stdout",
     "output_type": "stream",
     "text": [
      "9.433981132056603\n",
      "1.6\n"
     ]
    }
   ],
   "source": [
    "coor1 = (3,2)\n",
    "coor2 = (8,10)\n",
    "\n",
    "li = Line(coor1, coor2)\n",
    "print(li.distance())\n",
    "print(li.slope())"
   ]
  },
  {
   "cell_type": "code",
   "execution_count": 23,
   "id": "41713e29",
   "metadata": {},
   "outputs": [],
   "source": [
    "class Cylinder:\n",
    "    \n",
    "    h = 1\n",
    "    r = 1\n",
    "        \n",
    "    def __init__(self,height=1,radius=1):\n",
    "        Cylinder.h = height\n",
    "        Cylinder.r = radius\n",
    "    \n",
    "    def volume(self):\n",
    "        return 3.14 * (Cylinder.r**2) * Cylinder.h\n",
    "    \n",
    "    def surface_area(self):\n",
    "        return (2 * 3.14 * Cylinder.r * Cylinder.h) + (2 * 3.14 * Cylinder.r**2)"
   ]
  },
  {
   "cell_type": "code",
   "execution_count": 24,
   "id": "78b543cb",
   "metadata": {},
   "outputs": [
    {
     "name": "stdout",
     "output_type": "stream",
     "text": [
      "56.52\n",
      "94.2\n"
     ]
    }
   ],
   "source": [
    "c = Cylinder(2,3)\n",
    "print(c.volume())\n",
    "print(c.surface_area())"
   ]
  }
 ],
 "metadata": {
  "kernelspec": {
   "display_name": "Python 3",
   "language": "python",
   "name": "python3"
  },
  "language_info": {
   "codemirror_mode": {
    "name": "ipython",
    "version": 3
   },
   "file_extension": ".py",
   "mimetype": "text/x-python",
   "name": "python",
   "nbconvert_exporter": "python",
   "pygments_lexer": "ipython3",
   "version": "3.9.5"
  }
 },
 "nbformat": 4,
 "nbformat_minor": 5
}
