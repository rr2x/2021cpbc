{
 "cells": [
  {
   "cell_type": "code",
   "execution_count": 2,
   "id": "6a98fa84",
   "metadata": {},
   "outputs": [
    {
     "data": {
      "text/plain": [
       "'single quote'"
      ]
     },
     "execution_count": 2,
     "metadata": {},
     "output_type": "execute_result"
    }
   ],
   "source": [
    "'single quote'"
   ]
  },
  {
   "cell_type": "code",
   "execution_count": 4,
   "id": "8b51a5d2",
   "metadata": {},
   "outputs": [
    {
     "data": {
      "text/plain": [
       "'double quote'"
      ]
     },
     "execution_count": 4,
     "metadata": {},
     "output_type": "execute_result"
    }
   ],
   "source": [
    "\"double quote\""
   ]
  },
  {
   "cell_type": "code",
   "execution_count": 6,
   "id": "452ce04b",
   "metadata": {},
   "outputs": [
    {
     "data": {
      "text/plain": [
       "'i was searching for \"One Piece\"'"
      ]
     },
     "execution_count": 6,
     "metadata": {},
     "output_type": "execute_result"
    }
   ],
   "source": [
    "'i was searching for \"One Piece\"'"
   ]
  },
  {
   "cell_type": "code",
   "execution_count": 8,
   "id": "2b86adab",
   "metadata": {},
   "outputs": [
    {
     "data": {
      "text/plain": [
       "\"I'm that pirate\""
      ]
     },
     "execution_count": 8,
     "metadata": {},
     "output_type": "execute_result"
    }
   ],
   "source": [
    "\"I'm that pirate\""
   ]
  },
  {
   "cell_type": "code",
   "execution_count": 10,
   "id": "14b950b9",
   "metadata": {},
   "outputs": [
    {
     "name": "stdout",
     "output_type": "stream",
     "text": [
      "hey\n"
     ]
    }
   ],
   "source": [
    "print(\"hey\")"
   ]
  },
  {
   "cell_type": "code",
   "execution_count": 12,
   "id": "b8bdaaca",
   "metadata": {},
   "outputs": [
    {
     "data": {
      "text/plain": [
       "'hello sea 1'"
      ]
     },
     "execution_count": 12,
     "metadata": {},
     "output_type": "execute_result"
    }
   ],
   "source": [
    "\"hello sea 1\""
   ]
  },
  {
   "cell_type": "code",
   "execution_count": 16,
   "id": "fe301683",
   "metadata": {},
   "outputs": [
    {
     "name": "stdout",
     "output_type": "stream",
     "text": [
      "hello sea 2\n",
      "hello sea 3\n"
     ]
    }
   ],
   "source": [
    "print(\"hello sea 2\")\n",
    "print(\"hello sea 3\""
   ]
  },
  {
   "cell_type": "code",
   "execution_count": 23,
   "id": "cea27d70",
   "metadata": {},
   "outputs": [
    {
     "name": "stdout",
     "output_type": "stream",
     "text": [
      "wow\n",
      "great\n",
      "ok escape\tsequence\n"
     ]
    }
   ],
   "source": [
    "#escape sequence\n",
    "print(\"wow\\ngreat\")\n",
    "print(\"ok escape\\tsequence\")"
   ]
  },
  {
   "cell_type": "code",
   "execution_count": 25,
   "id": "44ab20d0",
   "metadata": {},
   "outputs": [
    {
     "data": {
      "text/plain": [
       "6"
      ]
     },
     "execution_count": 25,
     "metadata": {},
     "output_type": "execute_result"
    }
   ],
   "source": [
    "#len() function\n",
    "len(\"123456\")"
   ]
  },
  {
   "cell_type": "code",
   "execution_count": 2,
   "id": "90c183dc",
   "metadata": {},
   "outputs": [],
   "source": [
    "mystring = \"hey world\""
   ]
  },
  {
   "cell_type": "code",
   "execution_count": 4,
   "id": "bf3698fe",
   "metadata": {},
   "outputs": [
    {
     "data": {
      "text/plain": [
       "'hey world'"
      ]
     },
     "execution_count": 4,
     "metadata": {},
     "output_type": "execute_result"
    }
   ],
   "source": [
    "mystring"
   ]
  },
  {
   "cell_type": "code",
   "execution_count": 6,
   "id": "8dc32aee",
   "metadata": {},
   "outputs": [
    {
     "data": {
      "text/plain": [
       "'h'"
      ]
     },
     "execution_count": 6,
     "metadata": {},
     "output_type": "execute_result"
    }
   ],
   "source": [
    "#indexing\n",
    "mystring[0]"
   ]
  },
  {
   "cell_type": "code",
   "execution_count": 8,
   "id": "24a974e5",
   "metadata": {},
   "outputs": [
    {
     "data": {
      "text/plain": [
       "'w'"
      ]
     },
     "execution_count": 8,
     "metadata": {},
     "output_type": "execute_result"
    }
   ],
   "source": [
    "mystring[4]"
   ]
  },
  {
   "cell_type": "code",
   "execution_count": 10,
   "id": "59215cd1",
   "metadata": {},
   "outputs": [
    {
     "data": {
      "text/plain": [
       "'d'"
      ]
     },
     "execution_count": 10,
     "metadata": {},
     "output_type": "execute_result"
    }
   ],
   "source": [
    "#reverse indexing, using negative index\n",
    "mystring[-1] #gets 'd'"
   ]
  },
  {
   "cell_type": "code",
   "execution_count": 12,
   "id": "75f3a6eb",
   "metadata": {},
   "outputs": [],
   "source": [
    "mystring = 'abcdefghijk'"
   ]
  },
  {
   "cell_type": "code",
   "execution_count": 14,
   "id": "1c86b049",
   "metadata": {},
   "outputs": [
    {
     "data": {
      "text/plain": [
       "'abcdefghijk'"
      ]
     },
     "execution_count": 14,
     "metadata": {},
     "output_type": "execute_result"
    }
   ],
   "source": [
    "mystring"
   ]
  },
  {
   "cell_type": "code",
   "execution_count": 16,
   "id": "0316920d",
   "metadata": {},
   "outputs": [
    {
     "data": {
      "text/plain": [
       "'cdefghijk'"
      ]
     },
     "execution_count": 16,
     "metadata": {},
     "output_type": "execute_result"
    }
   ],
   "source": [
    "#substring\n",
    "mystring[2:] #all the way to the end, using zero index"
   ]
  },
  {
   "cell_type": "code",
   "execution_count": 18,
   "id": "ebe05ff9",
   "metadata": {},
   "outputs": [
    {
     "data": {
      "text/plain": [
       "'abc'"
      ]
     },
     "execution_count": 18,
     "metadata": {},
     "output_type": "execute_result"
    }
   ],
   "source": [
    "mystring[:3] #beginning till 3rd element"
   ]
  },
  {
   "cell_type": "code",
   "execution_count": 21,
   "id": "c2ceae48",
   "metadata": {},
   "outputs": [
    {
     "data": {
      "text/plain": [
       "'def'"
      ]
     },
     "execution_count": 21,
     "metadata": {},
     "output_type": "execute_result"
    }
   ],
   "source": [
    "mystring[3:6] #middle"
   ]
  },
  {
   "cell_type": "code",
   "execution_count": 23,
   "id": "495642b9",
   "metadata": {},
   "outputs": [
    {
     "data": {
      "text/plain": [
       "'bc'"
      ]
     },
     "execution_count": 23,
     "metadata": {},
     "output_type": "execute_result"
    }
   ],
   "source": [
    "mystring[1:3]"
   ]
  },
  {
   "cell_type": "code",
   "execution_count": 25,
   "id": "7f57175c",
   "metadata": {},
   "outputs": [
    {
     "data": {
      "text/plain": [
       "'defghi'"
      ]
     },
     "execution_count": 25,
     "metadata": {},
     "output_type": "execute_result"
    }
   ],
   "source": [
    "mystring[3:9]"
   ]
  },
  {
   "cell_type": "code",
   "execution_count": 27,
   "id": "84b6926d",
   "metadata": {},
   "outputs": [
    {
     "data": {
      "text/plain": [
       "'abcdefghijk'"
      ]
     },
     "execution_count": 27,
     "metadata": {},
     "output_type": "execute_result"
    }
   ],
   "source": [
    "#step-size\n",
    "mystring[::] #beginning till end"
   ]
  },
  {
   "cell_type": "code",
   "execution_count": 29,
   "id": "873ac7e3",
   "metadata": {},
   "outputs": [
    {
     "data": {
      "text/plain": [
       "'acegik'"
      ]
     },
     "execution_count": 29,
     "metadata": {},
     "output_type": "execute_result"
    }
   ],
   "source": [
    "mystring[::2] #go in jumps of 2"
   ]
  },
  {
   "cell_type": "code",
   "execution_count": 31,
   "id": "001995bd",
   "metadata": {},
   "outputs": [
    {
     "data": {
      "text/plain": [
       "'ceg'"
      ]
     },
     "execution_count": 31,
     "metadata": {},
     "output_type": "execute_result"
    }
   ],
   "source": [
    "mystring[2:7:2] #start,stop,step-size"
   ]
  },
  {
   "cell_type": "code",
   "execution_count": 33,
   "id": "8e94ccf5",
   "metadata": {},
   "outputs": [
    {
     "data": {
      "text/plain": [
       "'kjihgfedcba'"
      ]
     },
     "execution_count": 33,
     "metadata": {},
     "output_type": "execute_result"
    }
   ],
   "source": [
    "mystring[::-1] #reverse string"
   ]
  },
  {
   "cell_type": "code",
   "execution_count": 35,
   "id": "0aca98ee",
   "metadata": {},
   "outputs": [],
   "source": [
    "#immutability\n",
    "name = \"Sam\""
   ]
  },
  {
   "cell_type": "code",
   "execution_count": 39,
   "id": "04075d9c",
   "metadata": {},
   "outputs": [
    {
     "ename": "TypeError",
     "evalue": "'str' object does not support item assignment",
     "output_type": "error",
     "traceback": [
      "\u001b[1;31m---------------------------------------------------------------------------\u001b[0m",
      "\u001b[1;31mTypeError\u001b[0m                                 Traceback (most recent call last)",
      "\u001b[1;32m<ipython-input-39-19bf98217df9>\u001b[0m in \u001b[0;36m<module>\u001b[1;34m\u001b[0m\n\u001b[1;32m----> 1\u001b[1;33m \u001b[0mname\u001b[0m\u001b[1;33m[\u001b[0m\u001b[1;36m0\u001b[0m\u001b[1;33m]\u001b[0m \u001b[1;33m=\u001b[0m \u001b[1;34m\"P\"\u001b[0m \u001b[1;31m#can't, string is immutable\u001b[0m\u001b[1;33m\u001b[0m\u001b[1;33m\u001b[0m\u001b[0m\n\u001b[0m",
      "\u001b[1;31mTypeError\u001b[0m: 'str' object does not support item assignment"
     ]
    }
   ],
   "source": [
    "name[0] = \"P\" #can't, string is immutable"
   ]
  },
  {
   "cell_type": "code",
   "execution_count": 45,
   "id": "3dbfdffb",
   "metadata": {},
   "outputs": [],
   "source": [
    "last_letters = name[1:]"
   ]
  },
  {
   "cell_type": "code",
   "execution_count": 47,
   "id": "08397801",
   "metadata": {},
   "outputs": [
    {
     "data": {
      "text/plain": [
       "'am'"
      ]
     },
     "execution_count": 47,
     "metadata": {},
     "output_type": "execute_result"
    }
   ],
   "source": [
    "last_letters"
   ]
  },
  {
   "cell_type": "code",
   "execution_count": 49,
   "id": "35a7daa2",
   "metadata": {},
   "outputs": [
    {
     "data": {
      "text/plain": [
       "'Pam'"
      ]
     },
     "execution_count": 49,
     "metadata": {},
     "output_type": "execute_result"
    }
   ],
   "source": [
    "'P' + last_letters #string concatenation"
   ]
  },
  {
   "cell_type": "code",
   "execution_count": 51,
   "id": "1a698176",
   "metadata": {},
   "outputs": [],
   "source": [
    "x = 'Hey World'"
   ]
  },
  {
   "cell_type": "code",
   "execution_count": 54,
   "id": "26e30893",
   "metadata": {},
   "outputs": [],
   "source": [
    "x = x + \" it is rainy outside\" #concatenation of letters"
   ]
  },
  {
   "cell_type": "code",
   "execution_count": 56,
   "id": "352b7f54",
   "metadata": {},
   "outputs": [
    {
     "data": {
      "text/plain": [
       "'Hey World it is rainy outside'"
      ]
     },
     "execution_count": 56,
     "metadata": {},
     "output_type": "execute_result"
    }
   ],
   "source": [
    "x"
   ]
  },
  {
   "cell_type": "code",
   "execution_count": 58,
   "id": "14e6b703",
   "metadata": {},
   "outputs": [],
   "source": [
    "letter = 'z'"
   ]
  },
  {
   "cell_type": "code",
   "execution_count": 60,
   "id": "1d55b42b",
   "metadata": {},
   "outputs": [
    {
     "data": {
      "text/plain": [
       "'zzzzzzzzzz'"
      ]
     },
     "execution_count": 60,
     "metadata": {},
     "output_type": "execute_result"
    }
   ],
   "source": [
    "letter * 10 #multiplication for letters"
   ]
  },
  {
   "cell_type": "code",
   "execution_count": 62,
   "id": "187e3148",
   "metadata": {},
   "outputs": [
    {
     "data": {
      "text/plain": [
       "5"
      ]
     },
     "execution_count": 62,
     "metadata": {},
     "output_type": "execute_result"
    }
   ],
   "source": [
    "2 + 3"
   ]
  },
  {
   "cell_type": "code",
   "execution_count": 64,
   "id": "3015299c",
   "metadata": {},
   "outputs": [
    {
     "data": {
      "text/plain": [
       "'23'"
      ]
     },
     "execution_count": 64,
     "metadata": {},
     "output_type": "execute_result"
    }
   ],
   "source": [
    "'2' + '3'"
   ]
  },
  {
   "cell_type": "code",
   "execution_count": 66,
   "id": "2ff54e5c",
   "metadata": {},
   "outputs": [],
   "source": [
    "x = 'Hello World'"
   ]
  },
  {
   "cell_type": "code",
   "execution_count": 68,
   "id": "dd7447c1",
   "metadata": {},
   "outputs": [
    {
     "data": {
      "text/plain": [
       "'HELLO WORLD'"
      ]
     },
     "execution_count": 68,
     "metadata": {},
     "output_type": "execute_result"
    }
   ],
   "source": [
    "x.upper() #hit <tab> after the . to show built-in methods"
   ]
  },
  {
   "cell_type": "code",
   "execution_count": 70,
   "id": "96590d66",
   "metadata": {},
   "outputs": [
    {
     "data": {
      "text/plain": [
       "'hello world'"
      ]
     },
     "execution_count": 70,
     "metadata": {},
     "output_type": "execute_result"
    }
   ],
   "source": [
    "x.lower()"
   ]
  },
  {
   "cell_type": "code",
   "execution_count": 72,
   "id": "7488fd5d",
   "metadata": {},
   "outputs": [
    {
     "data": {
      "text/plain": [
       "['Hello', 'World']"
      ]
     },
     "execution_count": 72,
     "metadata": {},
     "output_type": "execute_result"
    }
   ],
   "source": [
    "x.split()"
   ]
  },
  {
   "cell_type": "code",
   "execution_count": 74,
   "id": "a40cc17c",
   "metadata": {},
   "outputs": [],
   "source": [
    "x = 'hey this is a string'"
   ]
  },
  {
   "cell_type": "code",
   "execution_count": 76,
   "id": "add11ad9",
   "metadata": {},
   "outputs": [
    {
     "data": {
      "text/plain": [
       "['hey', 'this', 'is', 'a', 'string']"
      ]
     },
     "execution_count": 76,
     "metadata": {},
     "output_type": "execute_result"
    }
   ],
   "source": [
    "x.split() #allow a list off a string based on the space or letter passed in"
   ]
  },
  {
   "cell_type": "code",
   "execution_count": 79,
   "id": "2c7d27e8",
   "metadata": {},
   "outputs": [
    {
     "data": {
      "text/plain": [
       "['hey th', 's ', 's a str', 'ng']"
      ]
     },
     "execution_count": 79,
     "metadata": {},
     "output_type": "execute_result"
    }
   ],
   "source": [
    "x.split('i')"
   ]
  },
  {
   "cell_type": "code",
   "execution_count": 81,
   "id": "6461154d",
   "metadata": {},
   "outputs": [
    {
     "name": "stdout",
     "output_type": "stream",
     "text": [
      "hey\n"
     ]
    }
   ],
   "source": [
    "print('hey')"
   ]
  },
  {
   "cell_type": "code",
   "execution_count": null,
   "id": "1ffaf3b7",
   "metadata": {},
   "outputs": [],
   "source": []
  }
 ],
 "metadata": {
  "kernelspec": {
   "display_name": "Python 3",
   "language": "python",
   "name": "python3"
  },
  "language_info": {
   "codemirror_mode": {
    "name": "ipython",
    "version": 3
   },
   "file_extension": ".py",
   "mimetype": "text/x-python",
   "name": "python",
   "nbconvert_exporter": "python",
   "pygments_lexer": "ipython3",
   "version": "3.8.9"
  }
 },
 "nbformat": 4,
 "nbformat_minor": 5
}
