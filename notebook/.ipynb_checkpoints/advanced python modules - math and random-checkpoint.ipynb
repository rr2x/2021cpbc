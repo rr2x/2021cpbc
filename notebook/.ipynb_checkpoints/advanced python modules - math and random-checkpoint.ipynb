{
 "cells": [
  {
   "cell_type": "code",
   "execution_count": 1,
   "id": "17881840",
   "metadata": {},
   "outputs": [],
   "source": [
    "import math"
   ]
  },
  {
   "cell_type": "code",
   "execution_count": 2,
   "id": "024053cc",
   "metadata": {},
   "outputs": [],
   "source": [
    "# help(math)"
   ]
  },
  {
   "cell_type": "code",
   "execution_count": 3,
   "id": "2b8df4c1",
   "metadata": {},
   "outputs": [],
   "source": [
    "value = 4.35"
   ]
  },
  {
   "cell_type": "code",
   "execution_count": 4,
   "id": "455a2d97",
   "metadata": {},
   "outputs": [
    {
     "data": {
      "text/plain": [
       "4"
      ]
     },
     "execution_count": 4,
     "metadata": {},
     "output_type": "execute_result"
    }
   ],
   "source": [
    "math.floor(value)"
   ]
  },
  {
   "cell_type": "code",
   "execution_count": 5,
   "id": "d71b2087",
   "metadata": {},
   "outputs": [
    {
     "data": {
      "text/plain": [
       "5"
      ]
     },
     "execution_count": 5,
     "metadata": {},
     "output_type": "execute_result"
    }
   ],
   "source": [
    "math.ceil(value)"
   ]
  },
  {
   "cell_type": "code",
   "execution_count": 6,
   "id": "c5453b30",
   "metadata": {},
   "outputs": [
    {
     "data": {
      "text/plain": [
       "4"
      ]
     },
     "execution_count": 6,
     "metadata": {},
     "output_type": "execute_result"
    }
   ],
   "source": [
    "round(value)  # built-in to python, favors even numbers as result"
   ]
  },
  {
   "cell_type": "code",
   "execution_count": 7,
   "id": "7c34e1c6",
   "metadata": {},
   "outputs": [],
   "source": [
    "from math import pi"
   ]
  },
  {
   "cell_type": "code",
   "execution_count": 8,
   "id": "f6361591",
   "metadata": {},
   "outputs": [
    {
     "data": {
      "text/plain": [
       "3.141592653589793"
      ]
     },
     "execution_count": 8,
     "metadata": {},
     "output_type": "execute_result"
    }
   ],
   "source": [
    "pi"
   ]
  },
  {
   "cell_type": "code",
   "execution_count": 9,
   "id": "5ab932bc",
   "metadata": {},
   "outputs": [
    {
     "data": {
      "text/plain": [
       "2.718281828459045"
      ]
     },
     "execution_count": 9,
     "metadata": {},
     "output_type": "execute_result"
    }
   ],
   "source": [
    "math.e"
   ]
  },
  {
   "cell_type": "code",
   "execution_count": 10,
   "id": "cd6c4c82",
   "metadata": {},
   "outputs": [
    {
     "data": {
      "text/plain": [
       "inf"
      ]
     },
     "execution_count": 10,
     "metadata": {},
     "output_type": "execute_result"
    }
   ],
   "source": [
    "math.inf"
   ]
  },
  {
   "cell_type": "code",
   "execution_count": 11,
   "id": "47fabb18",
   "metadata": {},
   "outputs": [
    {
     "data": {
      "text/plain": [
       "nan"
      ]
     },
     "execution_count": 11,
     "metadata": {},
     "output_type": "execute_result"
    }
   ],
   "source": [
    "math.nan"
   ]
  },
  {
   "cell_type": "code",
   "execution_count": 12,
   "id": "eac4f3de",
   "metadata": {},
   "outputs": [],
   "source": [
    "# if heavy calculation, better to use numpy"
   ]
  },
  {
   "cell_type": "code",
   "execution_count": 13,
   "id": "37d0ade8",
   "metadata": {},
   "outputs": [
    {
     "data": {
      "text/plain": [
       "1.0"
      ]
     },
     "execution_count": 13,
     "metadata": {},
     "output_type": "execute_result"
    }
   ],
   "source": [
    "math.log(math.e)"
   ]
  },
  {
   "cell_type": "code",
   "execution_count": 14,
   "id": "52e16c5a",
   "metadata": {},
   "outputs": [
    {
     "data": {
      "text/plain": [
       "2.0"
      ]
     },
     "execution_count": 14,
     "metadata": {},
     "output_type": "execute_result"
    }
   ],
   "source": [
    "math.log(100,10)"
   ]
  },
  {
   "cell_type": "code",
   "execution_count": 15,
   "id": "e6081995",
   "metadata": {},
   "outputs": [
    {
     "data": {
      "text/plain": [
       "-0.5440211108893698"
      ]
     },
     "execution_count": 15,
     "metadata": {},
     "output_type": "execute_result"
    }
   ],
   "source": [
    "math.sin(10)"
   ]
  },
  {
   "cell_type": "code",
   "execution_count": 16,
   "id": "911e84e7",
   "metadata": {},
   "outputs": [
    {
     "data": {
      "text/plain": [
       "90.0"
      ]
     },
     "execution_count": 16,
     "metadata": {},
     "output_type": "execute_result"
    }
   ],
   "source": [
    "math.degrees(pi/2)"
   ]
  },
  {
   "cell_type": "code",
   "execution_count": 17,
   "id": "48c3dfa6",
   "metadata": {},
   "outputs": [
    {
     "data": {
      "text/plain": [
       "3.141592653589793"
      ]
     },
     "execution_count": 17,
     "metadata": {},
     "output_type": "execute_result"
    }
   ],
   "source": [
    "math.radians(180)"
   ]
  },
  {
   "cell_type": "code",
   "execution_count": 18,
   "id": "2e486ca8",
   "metadata": {},
   "outputs": [],
   "source": [
    "import random"
   ]
  },
  {
   "cell_type": "code",
   "execution_count": 19,
   "id": "e0e24765",
   "metadata": {},
   "outputs": [
    {
     "data": {
      "text/plain": [
       "37"
      ]
     },
     "execution_count": 19,
     "metadata": {},
     "output_type": "execute_result"
    }
   ],
   "source": [
    "random.randint(0,100)"
   ]
  },
  {
   "cell_type": "code",
   "execution_count": 20,
   "id": "189a36b3",
   "metadata": {},
   "outputs": [
    {
     "data": {
      "text/plain": [
       "74"
      ]
     },
     "execution_count": 20,
     "metadata": {},
     "output_type": "execute_result"
    }
   ],
   "source": [
    "random.seed(101) # make generated value predictable, only on same cell if jup\n",
    "\n",
    "random.randint(0,100)"
   ]
  },
  {
   "cell_type": "code",
   "execution_count": 21,
   "id": "65d48955",
   "metadata": {},
   "outputs": [],
   "source": [
    "mylist = list(range(0,20))"
   ]
  },
  {
   "cell_type": "code",
   "execution_count": 22,
   "id": "fcfb54e3",
   "metadata": {},
   "outputs": [
    {
     "data": {
      "text/plain": [
       "[0, 1, 2, 3, 4, 5, 6, 7, 8, 9, 10, 11, 12, 13, 14, 15, 16, 17, 18, 19]"
      ]
     },
     "execution_count": 22,
     "metadata": {},
     "output_type": "execute_result"
    }
   ],
   "source": [
    "mylist"
   ]
  },
  {
   "cell_type": "code",
   "execution_count": 23,
   "id": "92538a33",
   "metadata": {},
   "outputs": [
    {
     "data": {
      "text/plain": [
       "6"
      ]
     },
     "execution_count": 23,
     "metadata": {},
     "output_type": "execute_result"
    }
   ],
   "source": [
    "random.choice(mylist) # choose some random"
   ]
  },
  {
   "cell_type": "code",
   "execution_count": 24,
   "id": "b86c74d2",
   "metadata": {},
   "outputs": [],
   "source": [
    "# sample with replacement (allow choosing same item)"
   ]
  },
  {
   "cell_type": "code",
   "execution_count": 25,
   "id": "038d08dd",
   "metadata": {},
   "outputs": [
    {
     "data": {
      "text/plain": [
       "[18, 10, 7, 0, 10, 12, 18, 9, 15, 6]"
      ]
     },
     "execution_count": 25,
     "metadata": {},
     "output_type": "execute_result"
    }
   ],
   "source": [
    "random.choices(population=mylist,k=10)"
   ]
  },
  {
   "cell_type": "code",
   "execution_count": 26,
   "id": "3e081dc2",
   "metadata": {},
   "outputs": [],
   "source": [
    "# sample without replacement (only uinque values)"
   ]
  },
  {
   "cell_type": "code",
   "execution_count": 27,
   "id": "a2d2f0e0",
   "metadata": {},
   "outputs": [
    {
     "data": {
      "text/plain": [
       "[14, 2, 8, 6, 5, 1, 7, 12, 17, 15]"
      ]
     },
     "execution_count": 27,
     "metadata": {},
     "output_type": "execute_result"
    }
   ],
   "source": [
    "random.sample(population=mylist,k=10)"
   ]
  },
  {
   "cell_type": "code",
   "execution_count": 28,
   "id": "e340e960",
   "metadata": {},
   "outputs": [],
   "source": [
    "random.shuffle(mylist) # in-place"
   ]
  },
  {
   "cell_type": "code",
   "execution_count": 29,
   "id": "faa735a9",
   "metadata": {},
   "outputs": [
    {
     "data": {
      "text/plain": [
       "[0, 8, 17, 11, 2, 9, 5, 18, 13, 4, 16, 14, 1, 3, 19, 12, 7, 10, 15, 6]"
      ]
     },
     "execution_count": 29,
     "metadata": {},
     "output_type": "execute_result"
    }
   ],
   "source": [
    "mylist"
   ]
  },
  {
   "cell_type": "code",
   "execution_count": 30,
   "id": "6293324f",
   "metadata": {},
   "outputs": [],
   "source": [
    "mylist.sort()"
   ]
  },
  {
   "cell_type": "code",
   "execution_count": 31,
   "id": "c89a2a6b",
   "metadata": {},
   "outputs": [
    {
     "data": {
      "text/plain": [
       "[0, 1, 2, 3, 4, 5, 6, 7, 8, 9, 10, 11, 12, 13, 14, 15, 16, 17, 18, 19]"
      ]
     },
     "execution_count": 31,
     "metadata": {},
     "output_type": "execute_result"
    }
   ],
   "source": [
    "mylist"
   ]
  },
  {
   "cell_type": "code",
   "execution_count": 32,
   "id": "d280f59c",
   "metadata": {},
   "outputs": [
    {
     "data": {
      "text/plain": [
       "22.911748605196948"
      ]
     },
     "execution_count": 32,
     "metadata": {},
     "output_type": "execute_result"
    }
   ],
   "source": [
    "random.uniform(a=0,b=100) # any number between 0 and 100 with floating point"
   ]
  },
  {
   "cell_type": "code",
   "execution_count": 33,
   "id": "f40fa794",
   "metadata": {},
   "outputs": [
    {
     "data": {
      "text/plain": [
       "1.463104539539442"
      ]
     },
     "execution_count": 33,
     "metadata": {},
     "output_type": "execute_result"
    }
   ],
   "source": [
    "random.gauss(mu=0,sigma=1) # normal distribution"
   ]
  }
 ],
 "metadata": {
  "kernelspec": {
   "display_name": "Python 3",
   "language": "python",
   "name": "python3"
  },
  "language_info": {
   "codemirror_mode": {
    "name": "ipython",
    "version": 3
   },
   "file_extension": ".py",
   "mimetype": "text/x-python",
   "name": "python",
   "nbconvert_exporter": "python",
   "pygments_lexer": "ipython3",
   "version": "3.9.5"
  }
 },
 "nbformat": 4,
 "nbformat_minor": 5
}
