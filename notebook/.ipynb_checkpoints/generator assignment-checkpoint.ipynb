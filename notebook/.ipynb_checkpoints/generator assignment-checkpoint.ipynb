{
 "cells": [
  {
   "cell_type": "code",
   "execution_count": 1,
   "id": "925e25ab",
   "metadata": {},
   "outputs": [],
   "source": [
    "def gensquares(N):\n",
    "    for x in range(N):\n",
    "        yield x**2"
   ]
  },
  {
   "cell_type": "code",
   "execution_count": 2,
   "id": "f1c6078b",
   "metadata": {},
   "outputs": [
    {
     "name": "stdout",
     "output_type": "stream",
     "text": [
      "0\n",
      "1\n",
      "4\n",
      "9\n",
      "16\n",
      "25\n",
      "36\n",
      "49\n",
      "64\n",
      "81\n"
     ]
    }
   ],
   "source": [
    "for x in gensquares(10):\n",
    "    print(x)"
   ]
  },
  {
   "cell_type": "code",
   "execution_count": 3,
   "id": "f0034146",
   "metadata": {},
   "outputs": [],
   "source": [
    "import random"
   ]
  },
  {
   "cell_type": "code",
   "execution_count": 4,
   "id": "a1c9f8d2",
   "metadata": {},
   "outputs": [
    {
     "name": "stdout",
     "output_type": "stream",
     "text": [
      "enter the lowest valid number: 5\n"
     ]
    }
   ],
   "source": [
    "n1 = int(input('enter the lowest valid number: '))"
   ]
  },
  {
   "cell_type": "code",
   "execution_count": 5,
   "id": "8a33bf22",
   "metadata": {},
   "outputs": [
    {
     "name": "stdout",
     "output_type": "stream",
     "text": [
      "enter the highest valid number: 55\n"
     ]
    }
   ],
   "source": [
    "n2 = int(input('enter the highest valid number: '))"
   ]
  },
  {
   "cell_type": "code",
   "execution_count": 6,
   "id": "9ed79bd5",
   "metadata": {},
   "outputs": [],
   "source": [
    "def rand_num(low,high,n):\n",
    "    for x in range(n):\n",
    "        yield random.randint(low,high)"
   ]
  },
  {
   "cell_type": "code",
   "execution_count": 7,
   "id": "543ca92f",
   "metadata": {},
   "outputs": [
    {
     "name": "stdout",
     "output_type": "stream",
     "text": [
      "35\n",
      "25\n",
      "5\n",
      "38\n",
      "24\n",
      "40\n",
      "10\n",
      "34\n",
      "55\n",
      "19\n",
      "27\n",
      "31\n"
     ]
    }
   ],
   "source": [
    "for num in rand_num(n1,n2,12):\n",
    "    print(num)"
   ]
  },
  {
   "cell_type": "code",
   "execution_count": 8,
   "id": "0aa9c1b9",
   "metadata": {},
   "outputs": [
    {
     "data": {
      "text/plain": [
       "['h', 'e', 'l', 'l', 'o']"
      ]
     },
     "execution_count": 8,
     "metadata": {},
     "output_type": "execute_result"
    }
   ],
   "source": [
    "s = 'hello'\n",
    "list(iter(s))"
   ]
  },
  {
   "cell_type": "code",
   "execution_count": 9,
   "id": "12192fac",
   "metadata": {},
   "outputs": [],
   "source": [
    "# generator use case:\n",
    "#     if calculation may take too long\n",
    "#     if performance is required"
   ]
  },
  {
   "cell_type": "code",
   "execution_count": null,
   "id": "970d6567",
   "metadata": {},
   "outputs": [],
   "source": [
    "# generator comprehension: just change [] to ()\n",
    "# it is like list comprehension"
   ]
  }
 ],
 "metadata": {
  "kernelspec": {
   "display_name": "Python 3",
   "language": "python",
   "name": "python3"
  },
  "language_info": {
   "codemirror_mode": {
    "name": "ipython",
    "version": 3
   },
   "file_extension": ".py",
   "mimetype": "text/x-python",
   "name": "python",
   "nbconvert_exporter": "python",
   "pygments_lexer": "ipython3",
   "version": "3.9.5"
  }
 },
 "nbformat": 4,
 "nbformat_minor": 5
}
