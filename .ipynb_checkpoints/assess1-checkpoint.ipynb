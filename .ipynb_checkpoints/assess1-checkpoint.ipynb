{
 "cells": [
  {
   "cell_type": "raw",
   "id": "0fab95f2",
   "metadata": {},
   "source": [
    "Strings: ordered sequence of characters (immutable)"
   ]
  },
  {
   "cell_type": "raw",
   "id": "34172860",
   "metadata": {},
   "source": [
    "Lists: ordered sequence of objects (mutable)"
   ]
  },
  {
   "cell_type": "raw",
   "id": "e3a500e5",
   "metadata": {},
   "source": [
    "Tuple: ordered sequence of objects (immutable)"
   ]
  },
  {
   "cell_type": "raw",
   "id": "9ee7cc9d",
   "metadata": {},
   "source": [
    "Dictionary: unordered key-value pair (mutable)"
   ]
  },
  {
   "cell_type": "raw",
   "id": "75df6ee0",
   "metadata": {},
   "source": [
    "once you introduce a Floating point on an Integer, it all becomes Floating\n",
    "\n",
    "square root:\n",
    "    100**0.5\n",
    "square:\n",
    "    100**2"
   ]
  },
  {
   "cell_type": "code",
   "execution_count": 9,
   "id": "338c9d1e",
   "metadata": {},
   "outputs": [],
   "source": [
    "s = 'hello'"
   ]
  },
  {
   "cell_type": "code",
   "execution_count": 11,
   "id": "c1a074c3",
   "metadata": {},
   "outputs": [
    {
     "data": {
      "text/plain": [
       "'e'"
      ]
     },
     "execution_count": 11,
     "metadata": {},
     "output_type": "execute_result"
    }
   ],
   "source": [
    "s[1]"
   ]
  },
  {
   "cell_type": "code",
   "execution_count": 13,
   "id": "c23c629d",
   "metadata": {},
   "outputs": [
    {
     "data": {
      "text/plain": [
       "'olleh'"
      ]
     },
     "execution_count": 13,
     "metadata": {},
     "output_type": "execute_result"
    }
   ],
   "source": [
    "s[::-1]"
   ]
  },
  {
   "cell_type": "code",
   "execution_count": 17,
   "id": "21fe5ae5",
   "metadata": {},
   "outputs": [
    {
     "data": {
      "text/plain": [
       "'o'"
      ]
     },
     "execution_count": 17,
     "metadata": {},
     "output_type": "execute_result"
    }
   ],
   "source": [
    "s[4:5]"
   ]
  },
  {
   "cell_type": "code",
   "execution_count": 22,
   "id": "bf13a7d0",
   "metadata": {},
   "outputs": [
    {
     "data": {
      "text/plain": [
       "'o'"
      ]
     },
     "execution_count": 22,
     "metadata": {},
     "output_type": "execute_result"
    }
   ],
   "source": [
    "s[4:5:1]"
   ]
  },
  {
   "cell_type": "code",
   "execution_count": 6,
   "id": "94741494",
   "metadata": {},
   "outputs": [
    {
     "data": {
      "text/plain": [
       "[0, 0, 0]"
      ]
     },
     "execution_count": 6,
     "metadata": {},
     "output_type": "execute_result"
    }
   ],
   "source": [
    "[0]*3"
   ]
  },
  {
   "cell_type": "code",
   "execution_count": 8,
   "id": "c4ef9d9c",
   "metadata": {},
   "outputs": [
    {
     "data": {
      "text/plain": [
       "[0, 0, 0]"
      ]
     },
     "execution_count": 8,
     "metadata": {},
     "output_type": "execute_result"
    }
   ],
   "source": [
    "list1 = [0,0]\n",
    "list2 = [0]\n",
    "list1+list2"
   ]
  },
  {
   "cell_type": "code",
   "execution_count": 3,
   "id": "7737c3bf",
   "metadata": {},
   "outputs": [
    {
     "data": {
      "text/plain": [
       "[1, 2, [3, 4, 'goodbye']]"
      ]
     },
     "execution_count": 3,
     "metadata": {},
     "output_type": "execute_result"
    }
   ],
   "source": [
    "list3 = [1,2,[3,4,'hello']]\n",
    "list3[2][2] = 'goodbye'\n",
    "list3"
   ]
  },
  {
   "cell_type": "code",
   "execution_count": 8,
   "id": "ba81fc05",
   "metadata": {},
   "outputs": [
    {
     "data": {
      "text/plain": [
       "[1, 3, 4, 5, 6]"
      ]
     },
     "execution_count": 8,
     "metadata": {},
     "output_type": "execute_result"
    }
   ],
   "source": [
    "list4 = [5,3,4,6,1]\n",
    "list4.sort() # in-place\n",
    "list4"
   ]
  },
  {
   "cell_type": "code",
   "execution_count": 9,
   "id": "13288231",
   "metadata": {},
   "outputs": [
    {
     "data": {
      "text/plain": [
       "[1, 3, 4, 5, 6]"
      ]
     },
     "execution_count": 9,
     "metadata": {},
     "output_type": "execute_result"
    }
   ],
   "source": [
    "list4 = [5,3,4,6,1]\n",
    "sorted(list4) # return the sorted version"
   ]
  },
  {
   "cell_type": "code",
   "execution_count": 24,
   "id": "6dc10f7f",
   "metadata": {},
   "outputs": [
    {
     "data": {
      "text/plain": [
       "'hello'"
      ]
     },
     "execution_count": 24,
     "metadata": {},
     "output_type": "execute_result"
    }
   ],
   "source": [
    "d = {'simple_key':'hello'}\n",
    "d['simple_key']"
   ]
  },
  {
   "cell_type": "code",
   "execution_count": 26,
   "id": "b1e2b8b8",
   "metadata": {},
   "outputs": [
    {
     "data": {
      "text/plain": [
       "'hello'"
      ]
     },
     "execution_count": 26,
     "metadata": {},
     "output_type": "execute_result"
    }
   ],
   "source": [
    "d = {'k1':{'k2':'hello'}}\n",
    "d['k1']['k2']"
   ]
  },
  {
   "cell_type": "code",
   "execution_count": 30,
   "id": "afe27df6",
   "metadata": {},
   "outputs": [
    {
     "data": {
      "text/plain": [
       "'hello'"
      ]
     },
     "execution_count": 30,
     "metadata": {},
     "output_type": "execute_result"
    }
   ],
   "source": [
    "d = {'k1':[{'nest_key':['this is deep',['hello']]}]}\n",
    "d['k1'][0]['nest_key'][1][0]"
   ]
  },
  {
   "cell_type": "code",
   "execution_count": 33,
   "id": "5d4057bb",
   "metadata": {},
   "outputs": [
    {
     "data": {
      "text/plain": [
       "'hello'"
      ]
     },
     "execution_count": 33,
     "metadata": {},
     "output_type": "execute_result"
    }
   ],
   "source": [
    "d = {'k1':[1,2,{'k2':['this is tricky',{'tough':[1,2,['hello']]}]}]}\n",
    "d['k1'][2]['k2'][1]['tough'][2][0]"
   ]
  },
  {
   "cell_type": "code",
   "execution_count": 36,
   "id": "1e7c2108",
   "metadata": {},
   "outputs": [],
   "source": [
    "# dictionary cannot be sorted, only retrieved by key, it is by design"
   ]
  },
  {
   "cell_type": "code",
   "execution_count": 38,
   "id": "7ec183e6",
   "metadata": {},
   "outputs": [],
   "source": [
    "# lists can have operations like strings, is mutable\n",
    "# meanwhile tuples are immutable and are commonly used for data integrity\n",
    "# tuples can be derived from a dictionary using .items() method\n",
    "# which returns a list of tuples\n",
    "\n",
    "# dictionaries are mappings and not a sequence and cannot be ordered"
   ]
  },
  {
   "cell_type": "code",
   "execution_count": 40,
   "id": "6b5c4ff8",
   "metadata": {},
   "outputs": [],
   "source": [
    "# sets ensures that you only have unique items inside it"
   ]
  },
  {
   "cell_type": "code",
   "execution_count": 43,
   "id": "5a7549b3",
   "metadata": {},
   "outputs": [
    {
     "data": {
      "text/plain": [
       "{1, 2, 3, 4, 11, 22, 33}"
      ]
     },
     "execution_count": 43,
     "metadata": {},
     "output_type": "execute_result"
    }
   ],
   "source": [
    "list5 = [1,2,2,33,4,4,11,22,3,3,2]\n",
    "set(list5)"
   ]
  },
  {
   "cell_type": "code",
   "execution_count": 45,
   "id": "1706d147",
   "metadata": {},
   "outputs": [
    {
     "data": {
      "text/plain": [
       "False"
      ]
     },
     "execution_count": 45,
     "metadata": {},
     "output_type": "execute_result"
    }
   ],
   "source": [
    "2 > 3 # False"
   ]
  },
  {
   "cell_type": "code",
   "execution_count": 47,
   "id": "d5271d58",
   "metadata": {},
   "outputs": [
    {
     "data": {
      "text/plain": [
       "False"
      ]
     },
     "execution_count": 47,
     "metadata": {},
     "output_type": "execute_result"
    }
   ],
   "source": [
    "3 <= 2 # False"
   ]
  },
  {
   "cell_type": "code",
   "execution_count": 49,
   "id": "569ae41f",
   "metadata": {},
   "outputs": [
    {
     "data": {
      "text/plain": [
       "False"
      ]
     },
     "execution_count": 49,
     "metadata": {},
     "output_type": "execute_result"
    }
   ],
   "source": [
    "3 == 2.0 # False"
   ]
  },
  {
   "cell_type": "code",
   "execution_count": 51,
   "id": "aae46c1d",
   "metadata": {},
   "outputs": [
    {
     "data": {
      "text/plain": [
       "True"
      ]
     },
     "execution_count": 51,
     "metadata": {},
     "output_type": "execute_result"
    }
   ],
   "source": [
    "3.0 == 3 # True"
   ]
  },
  {
   "cell_type": "code",
   "execution_count": 55,
   "id": "9e945ef8",
   "metadata": {},
   "outputs": [
    {
     "data": {
      "text/plain": [
       "False"
      ]
     },
     "execution_count": 55,
     "metadata": {},
     "output_type": "execute_result"
    }
   ],
   "source": [
    "4**0.5 != 2 # False"
   ]
  }
 ],
 "metadata": {
  "kernelspec": {
   "display_name": "Python 3",
   "language": "python",
   "name": "python3"
  },
  "language_info": {
   "codemirror_mode": {
    "name": "ipython",
    "version": 3
   },
   "file_extension": ".py",
   "mimetype": "text/x-python",
   "name": "python",
   "nbconvert_exporter": "python",
   "pygments_lexer": "ipython3",
   "version": "3.8.9"
  }
 },
 "nbformat": 4,
 "nbformat_minor": 5
}
