{
 "cells": [
  {
   "cell_type": "code",
   "execution_count": 106,
   "id": "8a91a0b2",
   "metadata": {},
   "outputs": [
    {
     "data": {
      "text/plain": [
       "[1, 2, 3]"
      ]
     },
     "execution_count": 106,
     "metadata": {},
     "output_type": "execute_result"
    }
   ],
   "source": [
    "my_list = [1,2,3]\n",
    "my_list"
   ]
  },
  {
   "cell_type": "code",
   "execution_count": 107,
   "id": "d812396e",
   "metadata": {},
   "outputs": [
    {
     "data": {
      "text/plain": [
       "['x', 32, 4.4]"
      ]
     },
     "execution_count": 107,
     "metadata": {},
     "output_type": "execute_result"
    }
   ],
   "source": [
    "my_list = ['x',32,4.4]\n",
    "my_list"
   ]
  },
  {
   "cell_type": "code",
   "execution_count": 108,
   "id": "de2f690e",
   "metadata": {},
   "outputs": [
    {
     "data": {
      "text/plain": [
       "3"
      ]
     },
     "execution_count": 108,
     "metadata": {},
     "output_type": "execute_result"
    }
   ],
   "source": [
    "len(my_list)"
   ]
  },
  {
   "cell_type": "code",
   "execution_count": 109,
   "id": "829ba6f5",
   "metadata": {},
   "outputs": [
    {
     "data": {
      "text/plain": [
       "'1'"
      ]
     },
     "execution_count": 109,
     "metadata": {},
     "output_type": "execute_result"
    }
   ],
   "source": [
    "mylist = ['1','2','3']\n",
    "mylist[0]"
   ]
  },
  {
   "cell_type": "code",
   "execution_count": 110,
   "id": "db512e77",
   "metadata": {},
   "outputs": [
    {
     "data": {
      "text/plain": [
       "['2', '3']"
      ]
     },
     "execution_count": 110,
     "metadata": {},
     "output_type": "execute_result"
    }
   ],
   "source": [
    "mylist[1:] #just like strings"
   ]
  },
  {
   "cell_type": "code",
   "execution_count": 111,
   "id": "90180439",
   "metadata": {},
   "outputs": [
    {
     "data": {
      "text/plain": [
       "['1', '2', '3', '4', '5']"
      ]
     },
     "execution_count": 111,
     "metadata": {},
     "output_type": "execute_result"
    }
   ],
   "source": [
    "another_list = ['4','5']\n",
    "mylist + another_list"
   ]
  },
  {
   "cell_type": "code",
   "execution_count": 112,
   "id": "188dd63d",
   "metadata": {},
   "outputs": [
    {
     "data": {
      "text/plain": [
       "['1', '2', '3']"
      ]
     },
     "execution_count": 112,
     "metadata": {},
     "output_type": "execute_result"
    }
   ],
   "source": [
    "mylist"
   ]
  },
  {
   "cell_type": "code",
   "execution_count": 113,
   "id": "c94462d2",
   "metadata": {},
   "outputs": [
    {
     "data": {
      "text/plain": [
       "['1', '2', '3', '4', '5']"
      ]
     },
     "execution_count": 113,
     "metadata": {},
     "output_type": "execute_result"
    }
   ],
   "source": [
    "new_list = mylist + another_list\n",
    "new_list"
   ]
  },
  {
   "cell_type": "code",
   "execution_count": 114,
   "id": "2b3f2885",
   "metadata": {},
   "outputs": [
    {
     "data": {
      "text/plain": [
       "['ONE', '2', '3', '4', '5']"
      ]
     },
     "execution_count": 114,
     "metadata": {},
     "output_type": "execute_result"
    }
   ],
   "source": [
    "# list are mutable, strings are immutable\n",
    "new_list[0] = 'ONE'\n",
    "new_list"
   ]
  },
  {
   "cell_type": "code",
   "execution_count": 115,
   "id": "d3fa949c",
   "metadata": {},
   "outputs": [
    {
     "data": {
      "text/plain": [
       "['ONE', '2', '3', '4', '5', 'SIX']"
      ]
     },
     "execution_count": 115,
     "metadata": {},
     "output_type": "execute_result"
    }
   ],
   "source": [
    "new_list.append('SIX') # add at the end\n",
    "new_list"
   ]
  },
  {
   "cell_type": "code",
   "execution_count": 116,
   "id": "1ff66f16",
   "metadata": {},
   "outputs": [
    {
     "data": {
      "text/plain": [
       "'SIX'"
      ]
     },
     "execution_count": 116,
     "metadata": {},
     "output_type": "execute_result"
    }
   ],
   "source": [
    "popped_item = new_list.pop() # remove item at end of list and return it\n",
    "popped_item"
   ]
  },
  {
   "cell_type": "code",
   "execution_count": 117,
   "id": "f6e36bf3",
   "metadata": {},
   "outputs": [
    {
     "data": {
      "text/plain": [
       "['ONE', '3', '4', '5']"
      ]
     },
     "execution_count": 117,
     "metadata": {},
     "output_type": "execute_result"
    }
   ],
   "source": [
    "new_list.pop(1) # remove at specific index (zero-based), if -1 then at the end\n",
    "new_list"
   ]
  },
  {
   "cell_type": "code",
   "execution_count": 118,
   "id": "f0e0ad34",
   "metadata": {},
   "outputs": [
    {
     "data": {
      "text/plain": [
       "NoneType"
      ]
     },
     "execution_count": 118,
     "metadata": {},
     "output_type": "execute_result"
    }
   ],
   "source": [
    "new_list = ['a','e','x','X','B','b']\n",
    "num_list = [4,6,1,8]\n",
    "\n",
    "#sort() just sorts IN-PLACE so it does not return anything\n",
    "my_sorted_list = new_list.sort() \n",
    "\n",
    "type(my_sorted_list) # has object type called \"NoneType\""
   ]
  },
  {
   "cell_type": "code",
   "execution_count": 119,
   "id": "f037c686",
   "metadata": {},
   "outputs": [
    {
     "data": {
      "text/plain": [
       "['B', 'X', 'a', 'b', 'e', 'x']"
      ]
     },
     "execution_count": 119,
     "metadata": {},
     "output_type": "execute_result"
    }
   ],
   "source": [
    "new_list #call again to see the newly sorted items"
   ]
  },
  {
   "cell_type": "code",
   "execution_count": 120,
   "id": "ae7652ed",
   "metadata": {},
   "outputs": [
    {
     "data": {
      "text/plain": [
       "[8, 1, 6, 4]"
      ]
     },
     "execution_count": 120,
     "metadata": {},
     "output_type": "execute_result"
    }
   ],
   "source": [
    "num_list.reverse() # in-place\n",
    "num_list"
   ]
  },
  {
   "cell_type": "code",
   "execution_count": 121,
   "id": "9e7562ff",
   "metadata": {},
   "outputs": [
    {
     "data": {
      "text/plain": [
       "[1, 4, 6, 8]"
      ]
     },
     "execution_count": 121,
     "metadata": {},
     "output_type": "execute_result"
    }
   ],
   "source": [
    "num_list.sort()\n",
    "num_list"
   ]
  },
  {
   "cell_type": "code",
   "execution_count": 122,
   "id": "ab372834",
   "metadata": {},
   "outputs": [
    {
     "data": {
      "text/plain": [
       "[8, 6, 4, 1]"
      ]
     },
     "execution_count": 122,
     "metadata": {},
     "output_type": "execute_result"
    }
   ],
   "source": [
    "num_list.reverse()\n",
    "num_list"
   ]
  }
 ],
 "metadata": {
  "kernelspec": {
   "display_name": "Python 3",
   "language": "python",
   "name": "python3"
  },
  "language_info": {
   "codemirror_mode": {
    "name": "ipython",
    "version": 3
   },
   "file_extension": ".py",
   "mimetype": "text/x-python",
   "name": "python",
   "nbconvert_exporter": "python",
   "pygments_lexer": "ipython3",
   "version": "3.8.9"
  }
 },
 "nbformat": 4,
 "nbformat_minor": 5
}
