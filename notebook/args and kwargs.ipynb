{
 "cells": [
  {
   "cell_type": "raw",
   "id": "372fdd9b",
   "metadata": {},
   "source": [
    "*args vs **kwargs\n",
    "\n",
    "by convention use *args and **kwargs as parameter"
   ]
  },
  {
   "cell_type": "code",
   "execution_count": 1,
   "id": "a65226aa",
   "metadata": {},
   "outputs": [],
   "source": [
    "def myfunc(a,b): # positional arguments\n",
    "    # Returns 5% of the sum of a and b\n",
    "    return sum((a,b)) * 0.05"
   ]
  },
  {
   "cell_type": "code",
   "execution_count": 2,
   "id": "d298d9c2",
   "metadata": {},
   "outputs": [
    {
     "data": {
      "text/plain": [
       "5.0"
      ]
     },
     "execution_count": 2,
     "metadata": {},
     "output_type": "execute_result"
    }
   ],
   "source": [
    "myfunc(40,60)"
   ]
  },
  {
   "cell_type": "code",
   "execution_count": 3,
   "id": "9fe73f75",
   "metadata": {},
   "outputs": [],
   "source": [
    "# using *args\n",
    "\n",
    "def myfunc(*args): # Tuple of parameters\n",
    "    print(type(args))\n",
    "    print([num for num in args])\n",
    "    return sum(args) * 0.05"
   ]
  },
  {
   "cell_type": "code",
   "execution_count": 4,
   "id": "7de3ce0c",
   "metadata": {},
   "outputs": [
    {
     "name": "stdout",
     "output_type": "stream",
     "text": [
      "<class 'tuple'>\n",
      "[40, 60]\n"
     ]
    },
    {
     "data": {
      "text/plain": [
       "5.0"
      ]
     },
     "execution_count": 4,
     "metadata": {},
     "output_type": "execute_result"
    }
   ],
   "source": [
    "myfunc(40,60)"
   ]
  },
  {
   "cell_type": "code",
   "execution_count": 5,
   "id": "7b372002",
   "metadata": {},
   "outputs": [],
   "source": [
    "# using **kwargs\n",
    "\n",
    "def myfunc(**kwargs): # Dictionary of parameters\n",
    "    print(type(kwargs))\n",
    "    if 'fruit' in kwargs:\n",
    "        print('My fruit of choice is {}'.format(kwargs['fruit']))\n",
    "    else:\n",
    "        print('did not find any fruit')"
   ]
  },
  {
   "cell_type": "code",
   "execution_count": 6,
   "id": "f06319f0",
   "metadata": {},
   "outputs": [
    {
     "name": "stdout",
     "output_type": "stream",
     "text": [
      "<class 'dict'>\n",
      "My fruit of choice is apple\n"
     ]
    }
   ],
   "source": [
    "myfunc(fruit='apple')"
   ]
  },
  {
   "cell_type": "code",
   "execution_count": 7,
   "id": "ee78ba4e",
   "metadata": {},
   "outputs": [
    {
     "name": "stdout",
     "output_type": "stream",
     "text": [
      "<class 'dict'>\n",
      "did not find any fruit\n"
     ]
    }
   ],
   "source": [
    "myfunc(nut='peanut')"
   ]
  },
  {
   "cell_type": "code",
   "execution_count": 8,
   "id": "e652b991",
   "metadata": {},
   "outputs": [],
   "source": [
    "def myfunc(*args,**kwargs): #note: need to be on same order as prescribed\n",
    "    print('I would like {} {}'.format(args[0],kwargs['food']))"
   ]
  },
  {
   "cell_type": "code",
   "execution_count": 9,
   "id": "6dcc9f34",
   "metadata": {},
   "outputs": [
    {
     "name": "stdout",
     "output_type": "stream",
     "text": [
      "I would like 10 tart\n"
     ]
    }
   ],
   "source": [
    "myfunc(10,20,30,40,food='tart')"
   ]
  }
 ],
 "metadata": {
  "kernelspec": {
   "display_name": "Python 3",
   "language": "python",
   "name": "python3"
  },
  "language_info": {
   "codemirror_mode": {
    "name": "ipython",
    "version": 3
   },
   "file_extension": ".py",
   "mimetype": "text/x-python",
   "name": "python",
   "nbconvert_exporter": "python",
   "pygments_lexer": "ipython3",
   "version": "3.8.9"
  }
 },
 "nbformat": 4,
 "nbformat_minor": 5
}
