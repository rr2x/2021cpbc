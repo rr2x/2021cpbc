{
 "cells": [
  {
   "cell_type": "code",
   "execution_count": 2,
   "id": "6a98fa84",
   "metadata": {},
   "outputs": [
    {
     "data": {
      "text/plain": [
       "'single quote'"
      ]
     },
     "execution_count": 2,
     "metadata": {},
     "output_type": "execute_result"
    }
   ],
   "source": [
    "'single quote'"
   ]
  },
  {
   "cell_type": "code",
   "execution_count": 4,
   "id": "8b51a5d2",
   "metadata": {},
   "outputs": [
    {
     "data": {
      "text/plain": [
       "'double quote'"
      ]
     },
     "execution_count": 4,
     "metadata": {},
     "output_type": "execute_result"
    }
   ],
   "source": [
    "\"double quote\""
   ]
  },
  {
   "cell_type": "code",
   "execution_count": 6,
   "id": "452ce04b",
   "metadata": {},
   "outputs": [
    {
     "data": {
      "text/plain": [
       "'i was searching for \"One Piece\"'"
      ]
     },
     "execution_count": 6,
     "metadata": {},
     "output_type": "execute_result"
    }
   ],
   "source": [
    "'i was searching for \"One Piece\"'"
   ]
  },
  {
   "cell_type": "code",
   "execution_count": 8,
   "id": "2b86adab",
   "metadata": {},
   "outputs": [
    {
     "data": {
      "text/plain": [
       "\"I'm that pirate\""
      ]
     },
     "execution_count": 8,
     "metadata": {},
     "output_type": "execute_result"
    }
   ],
   "source": [
    "\"I'm that pirate\""
   ]
  },
  {
   "cell_type": "code",
   "execution_count": 10,
   "id": "14b950b9",
   "metadata": {},
   "outputs": [
    {
     "name": "stdout",
     "output_type": "stream",
     "text": [
      "hey\n"
     ]
    }
   ],
   "source": [
    "print(\"hey\")"
   ]
  },
  {
   "cell_type": "code",
   "execution_count": 12,
   "id": "b8bdaaca",
   "metadata": {},
   "outputs": [
    {
     "data": {
      "text/plain": [
       "'hello sea 1'"
      ]
     },
     "execution_count": 12,
     "metadata": {},
     "output_type": "execute_result"
    }
   ],
   "source": [
    "\"hello sea 1\""
   ]
  },
  {
   "cell_type": "code",
   "execution_count": 16,
   "id": "fe301683",
   "metadata": {},
   "outputs": [
    {
     "name": "stdout",
     "output_type": "stream",
     "text": [
      "hello sea 2\n",
      "hello sea 3\n"
     ]
    }
   ],
   "source": [
    "print(\"hello sea 2\")\n",
    "print(\"hello sea 3\""
   ]
  },
  {
   "cell_type": "code",
   "execution_count": 23,
   "id": "cea27d70",
   "metadata": {},
   "outputs": [
    {
     "name": "stdout",
     "output_type": "stream",
     "text": [
      "wow\n",
      "great\n",
      "ok escape\tsequence\n"
     ]
    }
   ],
   "source": [
    "#escape sequence\n",
    "print(\"wow\\ngreat\")\n",
    "print(\"ok escape\\tsequence\")"
   ]
  },
  {
   "cell_type": "code",
   "execution_count": 25,
   "id": "44ab20d0",
   "metadata": {},
   "outputs": [
    {
     "data": {
      "text/plain": [
       "6"
      ]
     },
     "execution_count": 25,
     "metadata": {},
     "output_type": "execute_result"
    }
   ],
   "source": [
    "#len() function\n",
    "len(\"123456\")"
   ]
  },
  {
   "cell_type": "code",
   "execution_count": null,
   "id": "90c183dc",
   "metadata": {},
   "outputs": [],
   "source": []
  }
 ],
 "metadata": {
  "kernelspec": {
   "display_name": "Python 3",
   "language": "python",
   "name": "python3"
  },
  "language_info": {
   "codemirror_mode": {
    "name": "ipython",
    "version": 3
   },
   "file_extension": ".py",
   "mimetype": "text/x-python",
   "name": "python",
   "nbconvert_exporter": "python",
   "pygments_lexer": "ipython3",
   "version": "3.8.9"
  }
 },
 "nbformat": 4,
 "nbformat_minor": 5
}
