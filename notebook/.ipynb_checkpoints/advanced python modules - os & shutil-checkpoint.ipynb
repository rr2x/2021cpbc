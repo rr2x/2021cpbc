{
 "cells": [
  {
   "cell_type": "code",
   "execution_count": 1,
   "id": "6dccc8cb",
   "metadata": {},
   "outputs": [
    {
     "data": {
      "text/plain": [
       "'D:\\\\CODE\\\\TRAINING\\\\2021cpbc\\\\notebook'"
      ]
     },
     "execution_count": 1,
     "metadata": {},
     "output_type": "execute_result"
    }
   ],
   "source": [
    "pwd # jupyter exclusive command"
   ]
  },
  {
   "cell_type": "code",
   "execution_count": 2,
   "id": "685b203a",
   "metadata": {},
   "outputs": [],
   "source": [
    "with open('practice.txt','w+') as f:\n",
    "    f.write('Test String')\n",
    "    f.close()"
   ]
  },
  {
   "cell_type": "code",
   "execution_count": 3,
   "id": "4da930aa",
   "metadata": {},
   "outputs": [],
   "source": [
    "import os"
   ]
  },
  {
   "cell_type": "code",
   "execution_count": 4,
   "id": "c99fe258",
   "metadata": {},
   "outputs": [
    {
     "data": {
      "text/plain": [
       "'D:\\\\CODE\\\\TRAINING\\\\2021cpbc\\\\notebook'"
      ]
     },
     "execution_count": 4,
     "metadata": {},
     "output_type": "execute_result"
    }
   ],
   "source": [
    "os.getcwd() # get current working directory"
   ]
  },
  {
   "cell_type": "code",
   "execution_count": 5,
   "id": "6f4c0382",
   "metadata": {},
   "outputs": [
    {
     "data": {
      "text/plain": [
       "['0', 'All Users', 'Default', 'Default User', 'desktop.ini', 'Public']"
      ]
     },
     "execution_count": 5,
     "metadata": {},
     "output_type": "execute_result"
    }
   ],
   "source": [
    "os.listdir('C:\\\\Users')"
   ]
  },
  {
   "cell_type": "code",
   "execution_count": 6,
   "id": "8cfbf4bc",
   "metadata": {},
   "outputs": [
    {
     "data": {
      "text/plain": [
       "['.ipynb_checkpoints',\n",
       " 'advanced python modules - collections.ipynb',\n",
       " 'advanced python modules - os & shutil.ipynb',\n",
       " 'args and kwargs.ipynb',\n",
       " 'arithmetic.ipynb',\n",
       " 'assess1.ipynb',\n",
       " 'assess2.ipynb',\n",
       " 'booleans.ipynb',\n",
       " 'ch8 challenge.ipynb',\n",
       " 'ch8 homework.ipynb',\n",
       " 'comparison operators.ipynb',\n",
       " 'control flow (if-elif-else).ipynb',\n",
       " 'control flow (loops).ipynb',\n",
       " 'decorators.ipynb',\n",
       " 'dictionary.ipynb',\n",
       " 'error handling homework.ipynb',\n",
       " 'error handling.ipynb',\n",
       " 'function practice.ipynb',\n",
       " 'functions.ipynb',\n",
       " 'generator assignment.ipynb',\n",
       " 'generators.ipynb',\n",
       " 'io.ipynb',\n",
       " 'lambda.ipynb',\n",
       " 'list comprehension.ipynb',\n",
       " 'lists.ipynb',\n",
       " 'methods.ipynb',\n",
       " 'milestone project 1 (tic-tac-toe) alt solution.ipynb',\n",
       " 'milestone project 1 (tic-tac-toe).ipynb',\n",
       " 'milestone project 1 (warmup).ipynb',\n",
       " 'milestone project 2 (blackjack game).ipynb',\n",
       " 'milestone project 2 (war card game).ipynb',\n",
       " 'more function practice.ipynb',\n",
       " 'myfile.txt',\n",
       " 'nested statements and scope.ipynb',\n",
       " 'newfileagain.txt',\n",
       " 'object oriented.ipynb',\n",
       " 'practice.txt',\n",
       " 'print formatting.ipynb',\n",
       " 'python function interactions.ipynb',\n",
       " 'python operators.ipynb',\n",
       " 'sets.ipynb',\n",
       " 'special methods.ipynb',\n",
       " 'strings.ipynb',\n",
       " 'test2.txt',\n",
       " 'testfile',\n",
       " 'tuple unpacking with function.ipynb',\n",
       " 'tuples.ipynb',\n",
       " 'variables.ipynb',\n",
       " '_python-typing.ipynb']"
      ]
     },
     "execution_count": 6,
     "metadata": {},
     "output_type": "execute_result"
    }
   ],
   "source": [
    "os.listdir()"
   ]
  },
  {
   "cell_type": "code",
   "execution_count": 7,
   "id": "442ab359",
   "metadata": {},
   "outputs": [],
   "source": [
    "import shutil # shell utility module, move files"
   ]
  },
  {
   "cell_type": "code",
   "execution_count": 8,
   "id": "c572c6ac",
   "metadata": {},
   "outputs": [
    {
     "data": {
      "text/plain": [
       "'C:\\\\python-test-shutil\\\\practice.txt'"
      ]
     },
     "execution_count": 8,
     "metadata": {},
     "output_type": "execute_result"
    }
   ],
   "source": [
    "os.mkdir('C:\\\\python-test-shutil')\n",
    "shutil.move('practice.txt','C:\\\\python-test-shutil')"
   ]
  },
  {
   "cell_type": "code",
   "execution_count": 9,
   "id": "79068ae7",
   "metadata": {},
   "outputs": [
    {
     "data": {
      "text/plain": [
       "['practice.txt']"
      ]
     },
     "execution_count": 9,
     "metadata": {},
     "output_type": "execute_result"
    }
   ],
   "source": [
    "os.listdir('C:\\\\python-test-shutil')"
   ]
  },
  {
   "cell_type": "code",
   "execution_count": 10,
   "id": "c6be3c7c",
   "metadata": {},
   "outputs": [],
   "source": [
    "# use send2trash package so that deleted files are sent to trash\n",
    "# >> pip install send2trash"
   ]
  },
  {
   "cell_type": "code",
   "execution_count": 11,
   "id": "a4f973ac",
   "metadata": {},
   "outputs": [],
   "source": [
    "import send2trash"
   ]
  },
  {
   "cell_type": "code",
   "execution_count": 12,
   "id": "71e0e161",
   "metadata": {},
   "outputs": [
    {
     "data": {
      "text/plain": [
       "'D:\\\\CODE\\\\TRAINING\\\\2021cpbc\\\\notebook\\\\practice.txt'"
      ]
     },
     "execution_count": 12,
     "metadata": {},
     "output_type": "execute_result"
    }
   ],
   "source": [
    "shutil.move('C:\\\\python-test-shutil\\\\practice.txt',\n",
    "            'D:\\\\CODE\\\\TRAINING\\\\2021cpbc\\\\notebook')"
   ]
  },
  {
   "cell_type": "code",
   "execution_count": 13,
   "id": "c5fef6b4",
   "metadata": {},
   "outputs": [
    {
     "data": {
      "text/plain": [
       "[]"
      ]
     },
     "execution_count": 13,
     "metadata": {},
     "output_type": "execute_result"
    }
   ],
   "source": [
    "os.listdir('C:\\\\python-test-shutil')"
   ]
  },
  {
   "cell_type": "code",
   "execution_count": 14,
   "id": "3e3229cc",
   "metadata": {},
   "outputs": [],
   "source": [
    "send2trash.send2trash('practice.txt')"
   ]
  },
  {
   "cell_type": "code",
   "execution_count": 15,
   "id": "635f4004",
   "metadata": {},
   "outputs": [],
   "source": [
    "send2trash.send2trash('C:\\\\python-test-shutil')"
   ]
  },
  {
   "cell_type": "code",
   "execution_count": 16,
   "id": "3cc52af5",
   "metadata": {},
   "outputs": [
    {
     "name": "stdout",
     "output_type": "stream",
     "text": [
      "Currently looking at D:\\CODE\\TRAINING\\2021cpbc\\notebook\n",
      "\n",
      "\n",
      "Subfolders are: \n",
      "Subfolder: .ipynb_checkpoints\n",
      "\n",
      "\n",
      "The files are: \n",
      "file: advanced python modules - collections.ipynb\n",
      "file: advanced python modules - os & shutil.ipynb\n",
      "file: args and kwargs.ipynb\n",
      "file: arithmetic.ipynb\n",
      "file: assess1.ipynb\n",
      "file: assess2.ipynb\n",
      "file: booleans.ipynb\n",
      "file: ch8 challenge.ipynb\n",
      "file: ch8 homework.ipynb\n",
      "file: comparison operators.ipynb\n",
      "file: control flow (if-elif-else).ipynb\n",
      "file: control flow (loops).ipynb\n",
      "file: decorators.ipynb\n",
      "file: dictionary.ipynb\n",
      "file: error handling homework.ipynb\n",
      "file: error handling.ipynb\n",
      "file: function practice.ipynb\n",
      "file: functions.ipynb\n",
      "file: generator assignment.ipynb\n",
      "file: generators.ipynb\n",
      "file: io.ipynb\n",
      "file: lambda.ipynb\n",
      "file: list comprehension.ipynb\n",
      "file: lists.ipynb\n",
      "file: methods.ipynb\n",
      "file: milestone project 1 (tic-tac-toe) alt solution.ipynb\n",
      "file: milestone project 1 (tic-tac-toe).ipynb\n",
      "file: milestone project 1 (warmup).ipynb\n",
      "file: milestone project 2 (blackjack game).ipynb\n",
      "file: milestone project 2 (war card game).ipynb\n",
      "file: more function practice.ipynb\n",
      "file: myfile.txt\n",
      "file: nested statements and scope.ipynb\n",
      "file: newfileagain.txt\n",
      "file: object oriented.ipynb\n",
      "file: print formatting.ipynb\n",
      "file: python function interactions.ipynb\n",
      "file: python operators.ipynb\n",
      "file: sets.ipynb\n",
      "file: special methods.ipynb\n",
      "file: strings.ipynb\n",
      "file: test2.txt\n",
      "file: testfile\n",
      "file: tuple unpacking with function.ipynb\n",
      "file: tuples.ipynb\n",
      "file: variables.ipynb\n",
      "file: _python-typing.ipynb\n",
      "\n",
      "\n",
      "Currently looking at D:\\CODE\\TRAINING\\2021cpbc\\notebook\\.ipynb_checkpoints\n",
      "\n",
      "\n",
      "Subfolders are: \n",
      "\n",
      "\n",
      "The files are: \n",
      "file: advanced python modules - collections-checkpoint.ipynb\n",
      "file: advanced python modules - os & shutil-checkpoint.ipynb\n",
      "file: args and kwargs-checkpoint.ipynb\n",
      "file: arithmetic-checkpoint.ipynb\n",
      "file: assess1-checkpoint.ipynb\n",
      "file: assess2-checkpoint.ipynb\n",
      "file: booleans-checkpoint.ipynb\n",
      "file: ch8 challenge-checkpoint.ipynb\n",
      "file: ch8 homework-checkpoint.ipynb\n",
      "file: comparison operators-checkpoint.ipynb\n",
      "file: control flow (if-elif-else)-checkpoint.ipynb\n",
      "file: control flow (loops)-checkpoint.ipynb\n",
      "file: decorators-checkpoint.ipynb\n",
      "file: dictionary-checkpoint.ipynb\n",
      "file: error handling homework-checkpoint.ipynb\n",
      "file: error handling-checkpoint.ipynb\n",
      "file: function practice-checkpoint.ipynb\n",
      "file: functions-checkpoint.ipynb\n",
      "file: generator assignment-checkpoint.ipynb\n",
      "file: generators-checkpoint.ipynb\n",
      "file: io-checkpoint.ipynb\n",
      "file: lambda-checkpoint.ipynb\n",
      "file: list comprehension-checkpoint.ipynb\n",
      "file: lists-checkpoint.ipynb\n",
      "file: methods-checkpoint.ipynb\n",
      "file: milestone project 1 (tic-tac-toe) alt solution-checkpoint.ipynb\n",
      "file: milestone project 1 (tic-tac-toe)-checkpoint.ipynb\n",
      "file: milestone project 1 (warmup)-checkpoint.ipynb\n",
      "file: milestone project 2 (blackjack game)-checkpoint.ipynb\n",
      "file: milestone project 2 (war card game)-checkpoint.ipynb\n",
      "file: more function practice-checkpoint.ipynb\n",
      "file: nested statements and scope-checkpoint.ipynb\n",
      "file: object oriented-checkpoint.ipynb\n",
      "file: print formatting-checkpoint.ipynb\n",
      "file: python function interactions-checkpoint.ipynb\n",
      "file: python operators-checkpoint.ipynb\n",
      "file: sets-checkpoint.ipynb\n",
      "file: special methods-checkpoint.ipynb\n",
      "file: strings-checkpoint.ipynb\n",
      "file: tuple unpacking with function-checkpoint.ipynb\n",
      "file: tuples-checkpoint.ipynb\n",
      "file: variables-checkpoint.ipynb\n",
      "file: _python-typing-checkpoint.ipynb\n",
      "\n",
      "\n"
     ]
    }
   ],
   "source": [
    "# using os.walk(), will look everything on a specific target directory\n",
    "\n",
    "for folder,sub_folders,files in os.walk(os.getcwd()):\n",
    "    print(f'Currently looking at {folder}')\n",
    "    print('\\n')\n",
    "    print(f'Subfolders are: ')\n",
    "    for sub_fold in sub_folders:\n",
    "        print(f'Subfolder: {sub_fold}')\n",
    "        \n",
    "    print('\\n')\n",
    "    print('The files are: ')\n",
    "    for f in files:\n",
    "        print(f'file: {f}')\n",
    "    \n",
    "    print('\\n')"
   ]
  },
  {
   "cell_type": "code",
   "execution_count": null,
   "id": "758db0f7",
   "metadata": {},
   "outputs": [],
   "source": []
  }
 ],
 "metadata": {
  "kernelspec": {
   "display_name": "Python 3",
   "language": "python",
   "name": "python3"
  },
  "language_info": {
   "codemirror_mode": {
    "name": "ipython",
    "version": 3
   },
   "file_extension": ".py",
   "mimetype": "text/x-python",
   "name": "python",
   "nbconvert_exporter": "python",
   "pygments_lexer": "ipython3",
   "version": "3.9.5"
  }
 },
 "nbformat": 4,
 "nbformat_minor": 5
}
