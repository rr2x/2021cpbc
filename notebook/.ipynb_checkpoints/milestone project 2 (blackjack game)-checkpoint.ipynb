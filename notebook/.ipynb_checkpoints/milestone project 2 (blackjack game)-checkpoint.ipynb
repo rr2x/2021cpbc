{
 "cells": [
  {
   "cell_type": "code",
   "execution_count": 1,
   "id": "4c069e32",
   "metadata": {},
   "outputs": [],
   "source": [
    "import random\n",
    "\n",
    "suits = ('Hearts','Diamonds','Spades','Clubs')\n",
    "ranks = ('Two','Three','Four','Five','Six','Seven','Eight','Nine','Ten',\n",
    "         'Jack','Queen','King','Ace')\n",
    "values = {'Two':2,'Three':3,'Four':4,'Five':5,'Six':6,'Seven':7,'Eight':8,\n",
    "          'Nine':9,'Ten':10,'Jack':10,'Queen':10,'King':10,'Ace':11}\n",
    "\n",
    "playing = True"
   ]
  },
  {
   "cell_type": "code",
   "execution_count": 2,
   "id": "4656fc09",
   "metadata": {},
   "outputs": [],
   "source": [
    "class Card():\n",
    "\n",
    "    def __init__(self,suit,rank):\n",
    "        self.suit = suit\n",
    "        self.rank = rank\n",
    "\n",
    "    def __str__(self):\n",
    "        return self.rank + ' of ' + self.suit"
   ]
  },
  {
   "cell_type": "code",
   "execution_count": 3,
   "id": "c125fb72",
   "metadata": {},
   "outputs": [],
   "source": [
    "class Deck(): # the current deck used\n",
    "\n",
    "    def __init__(self):\n",
    "        self.deck = [] # start with an empty list\n",
    "        for suit in suits:\n",
    "            for rank in ranks:\n",
    "                self.deck.append(Card(suit,rank))\n",
    "\n",
    "    def __str__(self):\n",
    "        deck_comp = ''\n",
    "        for card in self.deck:\n",
    "            deck_comp += '\\n' + card.__str__()\n",
    "        return \"The deck has: \" + deck_comp\n",
    "\n",
    "    def shuffle(self):\n",
    "        random.shuffle(self.deck)\n",
    "        \n",
    "    def deal(self):\n",
    "        return self.deck.pop(0)"
   ]
  },
  {
   "cell_type": "code",
   "execution_count": 4,
   "id": "298d4fa2",
   "metadata": {},
   "outputs": [],
   "source": [
    "# test_deck = Deck()\n",
    "# test_deck.shuffle()\n",
    "# print(test_deck)"
   ]
  },
  {
   "cell_type": "code",
   "execution_count": 5,
   "id": "d8b23308",
   "metadata": {},
   "outputs": [],
   "source": [
    "class Hand(): # current cards that someone possess\n",
    "\n",
    "    def __init__(self):\n",
    "        self.cards = [] # start with empty list\n",
    "        self.value = 0 # start with zero value\n",
    "        self.aces = 0 #add an attribute to keep track of aces\n",
    "\n",
    "    def add_card(self,card):\n",
    "        # card passed in\n",
    "        # from Deck.deal() --> single Card(suit,rank)\n",
    "        self.cards.append(card)\n",
    "        self.value += values[card.rank]\n",
    "\n",
    "        # track aces\n",
    "        if card.rank == 'Ace':\n",
    "            self.aces += 1\n",
    "\n",
    "    def adjust_for_ace(self):\n",
    "        while self.value > 21 and self.aces > 0:\n",
    "            self.value -= 10\n",
    "            self.aces -=  1"
   ]
  },
  {
   "cell_type": "code",
   "execution_count": 6,
   "id": "cbe56573",
   "metadata": {},
   "outputs": [],
   "source": [
    "# test_deck = Deck()\n",
    "# test_deck.shuffle()\n",
    "\n",
    "## Player\n",
    "#test_player = Hand()\n",
    "#pulled_card = test_deck.deal()\n",
    "#print(pulled_card)\n",
    "#test_player.add_card(pulled_card)\n",
    "#print(test_player.value)"
   ]
  },
  {
   "cell_type": "code",
   "execution_count": 7,
   "id": "8a82a2c6",
   "metadata": {},
   "outputs": [],
   "source": [
    "class Chips(): # track of total money on hand\n",
    "    \n",
    "    def __init__(self,total=100):\n",
    "        self.total = total\n",
    "        self.bet = 0\n",
    "    \n",
    "    def win_bet(self):\n",
    "        self.total += self.bet\n",
    "    \n",
    "    def lose_bet(self):\n",
    "        self.total -= self.bet"
   ]
  },
  {
   "cell_type": "code",
   "execution_count": null,
   "id": "e1ee46bb",
   "metadata": {},
   "outputs": [],
   "source": []
  },
  {
   "cell_type": "code",
   "execution_count": null,
   "id": "c91f60fb",
   "metadata": {},
   "outputs": [],
   "source": []
  }
 ],
 "metadata": {
  "kernelspec": {
   "display_name": "Python 3",
   "language": "python",
   "name": "python3"
  },
  "language_info": {
   "codemirror_mode": {
    "name": "ipython",
    "version": 3
   },
   "file_extension": ".py",
   "mimetype": "text/x-python",
   "name": "python",
   "nbconvert_exporter": "python",
   "pygments_lexer": "ipython3",
   "version": "3.9.5"
  }
 },
 "nbformat": 4,
 "nbformat_minor": 5
}
