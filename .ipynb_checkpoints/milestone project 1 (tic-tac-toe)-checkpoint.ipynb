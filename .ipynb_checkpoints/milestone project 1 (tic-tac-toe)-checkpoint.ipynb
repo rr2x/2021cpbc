{
 "cells": [
  {
   "cell_type": "code",
   "execution_count": 1,
   "id": "d462d779",
   "metadata": {},
   "outputs": [],
   "source": [
    "from IPython.display import clear_output\n",
    "\n",
    "def display_board(board):\n",
    "    if len(board) != 9:\n",
    "        return print('Enter a board with 9 elements')\n",
    "    \n",
    "    clear_output()\n",
    "    \n",
    "    display = \"\"\n",
    "    \n",
    "    tob_row = \"|---|---|---|\"\n",
    "    middle_row = \"|---|---|---|\\n\"\n",
    "    \n",
    "    row_789 = f\"| {board[6]} | {board[7]} | {board[8]} |\"\n",
    "    row_456 = f\"| {board[3]} | {board[4]} | {board[5]} |\"\n",
    "    row_123 = f\"| {board[0]} | {board[1]} | {board[2]} |\"\n",
    "    \n",
    "    d = { \"789\": row_789, \"456\": row_456, \"123\": row_123 }\n",
    "\n",
    "    for i,v in d.items():\n",
    "        if i == '789':\n",
    "            display += tob_row + \"\\n\" + str(v) + \"\\n\" + middle_row \n",
    "        elif i == '456':\n",
    "            display += str(v) + \"\\n\" + middle_row \n",
    "        else:\n",
    "            display += str(v) + \"\\n\" + tob_row\n",
    "    \n",
    "    print(display)"
   ]
  },
  {
   "cell_type": "code",
   "execution_count": 9,
   "id": "12ab30b0",
   "metadata": {},
   "outputs": [
    {
     "name": "stdout",
     "output_type": "stream",
     "text": [
      "|---|---|---|\n",
      "| X | O | X |\n",
      "|---|---|---|\n",
      "| X | O | X |\n",
      "|---|---|---|\n",
      "| X | O | X |\n",
      "|---|---|---|\n"
     ]
    }
   ],
   "source": [
    "test_board = [\"X\",\"O\",\"X\",\"X\",\"O\",\"X\",\"X\",\"O\",\"X\"]\n",
    "display_board(test_board)"
   ]
  },
  {
   "cell_type": "code",
   "execution_count": 10,
   "id": "e1688ec4",
   "metadata": {},
   "outputs": [],
   "source": [
    "def player_input():\n",
    "\n",
    "    inpt = 'bad'\n",
    "    \n",
    "    while inpt not in ['x','o']:\n",
    "        inpt = str(input(\"Player 1: Do you want to be X or O?\\n\")).lower()\n",
    "        \n",
    "        if inpt not in ['x','o']:\n",
    "            print(\"Enter a selection between 'X' or 'O'\")\n",
    "    \n",
    "    if inpt == 'x':\n",
    "        print('Player 1 will go first')\n",
    "    else:\n",
    "        print('Player 2 will go first')\n",
    "    \n",
    "    return inpt.upper()"
   ]
  },
  {
   "cell_type": "code",
   "execution_count": 11,
   "id": "8f1d5c43",
   "metadata": {},
   "outputs": [
    {
     "name": "stdout",
     "output_type": "stream",
     "text": [
      "Player 1: Do you want to be X or O?\n",
      "x\n",
      "Player 1 will go first\n"
     ]
    },
    {
     "data": {
      "text/plain": [
       "'X'"
      ]
     },
     "execution_count": 11,
     "metadata": {},
     "output_type": "execute_result"
    }
   ],
   "source": [
    "val = player_input()\n",
    "val"
   ]
  },
  {
   "cell_type": "code",
   "execution_count": 14,
   "id": "2de88e0d",
   "metadata": {},
   "outputs": [],
   "source": [
    "def place_marker(board, marker, position):\n",
    "    \n",
    "    if position not in range(1,10):\n",
    "        return print('Enter a position between 1 and 9')\n",
    "    \n",
    "    board[position-1] = marker + board[position-1]\n",
    "    return board"
   ]
  },
  {
   "cell_type": "code",
   "execution_count": 15,
   "id": "ad2b0789",
   "metadata": {},
   "outputs": [
    {
     "data": {
      "text/plain": [
       "['X', 'O', 'X', 'X', 'O', 'X', 'X', 'O', 'X']"
      ]
     },
     "execution_count": 15,
     "metadata": {},
     "output_type": "execute_result"
    }
   ],
   "source": [
    "place_marker(test_board, \"\", 1)\n",
    "test_board"
   ]
  },
  {
   "cell_type": "code",
   "execution_count": 26,
   "id": "dcee3c41",
   "metadata": {},
   "outputs": [],
   "source": [
    "def win_check(board, mark):\n",
    "    \n",
    "    #position:\n",
    "    # --- --- ---\n",
    "    #| 7 | 8 | 9 |\n",
    "    #|---|---|---|\n",
    "    #| 4 | 5 | 6 |\n",
    "    #|---|---|---|\n",
    "    #| 1 | 2 | 3 |\n",
    "    # --- --- ---\n",
    "    \n",
    "    #mark:\n",
    "    # list = [0,1,2,3,4,5,6,7,8]\n",
    "    # position = [1,2,3,4,5,6,7,8,9]\n",
    "    \n",
    "    # winning patterns:\n",
    "    #  123/321, 456/654, 789/987,\n",
    "    #  147/741, 258/854, 369/963,\n",
    "    #  159,951, 357/753\n",
    "    \n",
    "    # setup win patterns\n",
    "    # check if there are 3 sequence of mark\n",
    "    # according to this pattern\n",
    "    win_pat = []\n",
    "    win_pat.append([1,2,3])\n",
    "    win_pat.append([4,5,6])\n",
    "    win_pat.append([7,8,9])\n",
    "    win_pat.append([1,4,7])\n",
    "    win_pat.append([2,5,8])\n",
    "    win_pat.append([3,6,9])\n",
    "    win_pat.append([1,5,9])\n",
    "    win_pat.append([3,5,7])\n",
    "    \n",
    "    # let us construct the current pattern of current mark\n",
    "    cur_pat = []\n",
    "    for i in range(0,len(board)):\n",
    "        if board[i].lower() == mark.lower():\n",
    "            cur_pat.append(i+1)\n",
    "    \n",
    "    for wp in win_pat:\n",
    "        strike1 = False\n",
    "        strike2 = False\n",
    "        strike3 = False\n",
    "        \n",
    "        if wp[0] in cur_pat and wp[1] in cur_pat and wp[2] in cur_pat:\n",
    "            print(f'{mark} won!')\n",
    "            break\n",
    "    \n",
    "            \n",
    "    print(f'current board state: {board}')\n",
    "    print(f'win patterns: {win_pat}')\n",
    "    print(f'current pattern: {cur_pat}')\n",
    "    \n",
    "    # todo: check win pattern\n",
    "    # if current mark pattern has a sequence that\n",
    "    # exist on any of the win pattern, then mark win\n",
    "    \n",
    "    \n",
    "    \n",
    "    "
   ]
  },
  {
   "cell_type": "code",
   "execution_count": 27,
   "id": "56a1b153",
   "metadata": {},
   "outputs": [
    {
     "name": "stdout",
     "output_type": "stream",
     "text": [
      "X won!\n",
      "current board state: ['X', 'O', 'X', 'X', 'O', 'X', 'X', 'O', 'X']\n",
      "win patterns: [[1, 2, 3], [4, 5, 6], [7, 8, 9], [1, 4, 7], [2, 5, 8], [3, 6, 9], [1, 5, 9], [3, 5, 7]]\n",
      "current pattern: [1, 3, 4, 6, 7, 9]\n"
     ]
    }
   ],
   "source": [
    "win_check(test_board,'X')"
   ]
  },
  {
   "cell_type": "code",
   "execution_count": null,
   "id": "e4435d55",
   "metadata": {},
   "outputs": [],
   "source": []
  }
 ],
 "metadata": {
  "kernelspec": {
   "display_name": "Python 3",
   "language": "python",
   "name": "python3"
  },
  "language_info": {
   "codemirror_mode": {
    "name": "ipython",
    "version": 3
   },
   "file_extension": ".py",
   "mimetype": "text/x-python",
   "name": "python",
   "nbconvert_exporter": "python",
   "pygments_lexer": "ipython3",
   "version": "3.8.9"
  }
 },
 "nbformat": 4,
 "nbformat_minor": 5
}
