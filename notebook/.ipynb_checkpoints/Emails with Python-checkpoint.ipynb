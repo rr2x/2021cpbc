{
 "cells": [
  {
   "cell_type": "code",
   "execution_count": 2,
   "id": "321b6e14",
   "metadata": {},
   "outputs": [],
   "source": [
    "# sending emails (using gmail in this example):\n",
    "import smtplib"
   ]
  },
  {
   "cell_type": "code",
   "execution_count": 3,
   "id": "9aebd13b",
   "metadata": {},
   "outputs": [],
   "source": [
    "smtp_object = smtplib.SMTP('smtp.gmail.com',587) # or 465, or don't pass any\n",
    "# might have problem with firewall, so check that if still can't connect"
   ]
  },
  {
   "cell_type": "code",
   "execution_count": null,
   "id": "51327ec9",
   "metadata": {},
   "outputs": [],
   "source": [
    "smtp_object.ehlo()"
   ]
  },
  {
   "cell_type": "code",
   "execution_count": null,
   "id": "932e363c",
   "metadata": {},
   "outputs": [],
   "source": [
    "smtp_object.starttls()"
   ]
  },
  {
   "cell_type": "code",
   "execution_count": null,
   "id": "37cb33e4",
   "metadata": {},
   "outputs": [],
   "source": [
    "# enable google App password (not your email)\n",
    "# app password should use Mail to interact it\n",
    "# and setup 2-step verification (it will use your phone number)\n",
    "\n",
    "import getpass # so that it will be converted to dots, secure way to pass info"
   ]
  },
  {
   "cell_type": "code",
   "execution_count": null,
   "id": "704d1f38",
   "metadata": {},
   "outputs": [],
   "source": [
    "email = getpass.getpass('Email: ')\n",
    "password = getpass.getpass('Password: ') # app password\n",
    "smtp_object.login(email,password)\n",
    "\n",
    "# should have code: Accepted\n",
    "# it will auto disconnect if idle for too long"
   ]
  },
  {
   "cell_type": "code",
   "execution_count": null,
   "id": "aac951d8",
   "metadata": {},
   "outputs": [],
   "source": [
    "from_address = email\n",
    "to_address = email #supposed to be the recipient\n",
    "subject = input('enter subject line: ')\n",
    "message = input('enter the body message: ')\n",
    "msg = \"Subject: \" +subject+ '\\n' +message #the actual format for email\n",
    "\n",
    "smtp_object.sendmail(from_address,to_address,msg)\n",
    "\n",
    "# if you get an empty dictionary {}, then it works\n",
    "\n",
    "smpt_object.quit() # close connection"
   ]
  },
  {
   "cell_type": "code",
   "execution_count": null,
   "id": "72954f09",
   "metadata": {},
   "outputs": [],
   "source": [
    "# receiving emails:\n",
    "import imaplib"
   ]
  },
  {
   "cell_type": "code",
   "execution_count": null,
   "id": "e2099fcb",
   "metadata": {},
   "outputs": [],
   "source": [
    "M = imaplib.IMAP4_SSL('imap.gmail.com')"
   ]
  },
  {
   "cell_type": "code",
   "execution_count": null,
   "id": "363633fe",
   "metadata": {},
   "outputs": [],
   "source": [
    "import getpass"
   ]
  },
  {
   "cell_type": "code",
   "execution_count": null,
   "id": "8c54b78b",
   "metadata": {},
   "outputs": [],
   "source": [
    "email = getpass.getpass('Email: ')\n",
    "password = getpass.getpass('Password: ')# app password"
   ]
  },
  {
   "cell_type": "code",
   "execution_count": null,
   "id": "bccd6fd3",
   "metadata": {},
   "outputs": [],
   "source": [
    "M.login(email,password)\n",
    "M.list()"
   ]
  },
  {
   "cell_type": "code",
   "execution_count": null,
   "id": "43775826",
   "metadata": {},
   "outputs": [],
   "source": [
    "M.select('inbox')"
   ]
  },
  {
   "cell_type": "code",
   "execution_count": null,
   "id": "de73787c",
   "metadata": {},
   "outputs": [],
   "source": [
    "# refer to imaplib IMAP syntax for more info"
   ]
  },
  {
   "cell_type": "code",
   "execution_count": null,
   "id": "586b3132",
   "metadata": {},
   "outputs": [],
   "source": [
    "typ,data = M.search(None,'SUBJECT \"NEW TEST PYTHON\"')"
   ]
  },
  {
   "cell_type": "code",
   "execution_count": null,
   "id": "88b44f55",
   "metadata": {},
   "outputs": [],
   "source": [
    "# if data has multiple numbers, then we found multiple matches"
   ]
  },
  {
   "cell_type": "code",
   "execution_count": null,
   "id": "149506f2",
   "metadata": {},
   "outputs": [],
   "source": [
    "email_id = data[0]"
   ]
  },
  {
   "cell_type": "code",
   "execution_count": null,
   "id": "53504d5c",
   "metadata": {},
   "outputs": [],
   "source": [
    "result,email_data = M.fetch(email_id,'(RFC822)')"
   ]
  },
  {
   "cell_type": "code",
   "execution_count": null,
   "id": "1ee557a0",
   "metadata": {},
   "outputs": [],
   "source": [
    "raw_email = email_data[0][1]"
   ]
  },
  {
   "cell_type": "code",
   "execution_count": null,
   "id": "ca628f6e",
   "metadata": {},
   "outputs": [],
   "source": [
    "raw_email_string = raw_email.decode('utf-8')"
   ]
  },
  {
   "cell_type": "code",
   "execution_count": null,
   "id": "48a57fe3",
   "metadata": {},
   "outputs": [],
   "source": [
    "import email"
   ]
  },
  {
   "cell_type": "code",
   "execution_count": null,
   "id": "ae30bdd9",
   "metadata": {},
   "outputs": [],
   "source": [
    "email_message = email.message_from_string(raw_email_string)"
   ]
  },
  {
   "cell_type": "code",
   "execution_count": null,
   "id": "baeebfa9",
   "metadata": {},
   "outputs": [],
   "source": [
    "for part in email_message.walk():\n",
    "    \n",
    "    if part.get_content_type() == 'text/html': # or text/plain\n",
    "        body = part.get_payload(decode=True)\n",
    "        print(body)"
   ]
  }
 ],
 "metadata": {
  "kernelspec": {
   "display_name": "Python 3",
   "language": "python",
   "name": "python3"
  },
  "language_info": {
   "codemirror_mode": {
    "name": "ipython",
    "version": 3
   },
   "file_extension": ".py",
   "mimetype": "text/x-python",
   "name": "python",
   "nbconvert_exporter": "python",
   "pygments_lexer": "ipython3",
   "version": "3.9.5"
  }
 },
 "nbformat": 4,
 "nbformat_minor": 5
}
