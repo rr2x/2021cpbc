{
 "cells": [
  {
   "cell_type": "code",
   "execution_count": 1,
   "id": "ff01bc86",
   "metadata": {},
   "outputs": [],
   "source": [
    "from IPython.display import clear_output\n",
    "\n",
    "def display_board(board):\n",
    "    if len(board) != 9:\n",
    "        return print('Enter a board with 9 elements')\n",
    "    \n",
    "    clear_output()\n",
    "    \n",
    "    display = \"\"\n",
    "    \n",
    "    tob_row = \"|---|---|---|\"\n",
    "    middle_row = \"|---|---|---|\\n\"\n",
    "    \n",
    "    row_789 = f\"| {board[6]} | {board[7]} | {board[8]} |\"\n",
    "    row_456 = f\"| {board[3]} | {board[4]} | {board[5]} |\"\n",
    "    row_123 = f\"| {board[0]} | {board[1]} | {board[2]} |\"\n",
    "    \n",
    "    d = { \"789\": row_789, \"456\": row_456, \"123\": row_123 }\n",
    "\n",
    "    for i,v in d.items():\n",
    "        if i == '789':\n",
    "            display += tob_row + \"\\n\" + str(v) + \"\\n\" + middle_row \n",
    "        elif i == '456':\n",
    "            display += str(v) + \"\\n\" + middle_row \n",
    "        else:\n",
    "            display += str(v) + \"\\n\" + tob_row\n",
    "    \n",
    "    print(display)"
   ]
  },
  {
   "cell_type": "code",
   "execution_count": 2,
   "id": "90f3c9f5",
   "metadata": {},
   "outputs": [],
   "source": [
    "# test_board = [\" \",\"O\",\"O\",\"X\",\"O\",\"X\",\"X\",\"O\",\"X\"]\n",
    "# display_board(test_board)"
   ]
  },
  {
   "cell_type": "code",
   "execution_count": 3,
   "id": "3b8aa4e3",
   "metadata": {},
   "outputs": [],
   "source": [
    "def player_input():\n",
    "\n",
    "    inpt = 'bad'\n",
    "    \n",
    "    while inpt not in ['x','o']:\n",
    "        inpt = str(input(\"Player 1: Do you want to be X or O?\\n\")).lower()\n",
    "        \n",
    "        if inpt not in ['x','o']:\n",
    "            print(\"Enter a selection between 'X' or 'O'\")\n",
    "    \n",
    "    return inpt.upper()"
   ]
  },
  {
   "cell_type": "code",
   "execution_count": 4,
   "id": "9f27f7cb",
   "metadata": {},
   "outputs": [],
   "source": [
    "# val = player_input()\n",
    "# val"
   ]
  },
  {
   "cell_type": "code",
   "execution_count": 5,
   "id": "4de74cb6",
   "metadata": {},
   "outputs": [],
   "source": [
    "def place_marker(board, marker, position):\n",
    "    \n",
    "    if position not in range(1,10):\n",
    "        return print('Enter a position between 1 and 9')\n",
    "    \n",
    "    board[position-1] = marker\n",
    "    return board"
   ]
  },
  {
   "cell_type": "code",
   "execution_count": 6,
   "id": "3306c0cc",
   "metadata": {},
   "outputs": [],
   "source": [
    "# place_marker(test_board, \"\", 1)\n",
    "# test_board"
   ]
  },
  {
   "cell_type": "code",
   "execution_count": 7,
   "id": "877656e1",
   "metadata": {},
   "outputs": [],
   "source": [
    "def win_check(board, mark):\n",
    "    \n",
    "    #position:\n",
    "    # --- --- ---\n",
    "    #| 7 | 8 | 9 |\n",
    "    #|---|---|---|\n",
    "    #| 4 | 5 | 6 |\n",
    "    #|---|---|---|\n",
    "    #| 1 | 2 | 3 |\n",
    "    # --- --- ---\n",
    "    \n",
    "    #mark:\n",
    "    # list = [0,1,2,3,4,5,6,7,8]\n",
    "    # position = [1,2,3,4,5,6,7,8,9]\n",
    "    \n",
    "    # winning patterns:\n",
    "    #  123/321, 456/654, 789/987,\n",
    "    #  147/741, 258/854, 369/963,\n",
    "    #  159/951, 357/753\n",
    "    \n",
    "    # setup win patterns\n",
    "    # check if there are 3 sequence of mark\n",
    "    # according to this pattern\n",
    "    win_pat = []\n",
    "    win_pat.append([1,2,3])\n",
    "    win_pat.append([4,5,6])\n",
    "    win_pat.append([7,8,9])\n",
    "    win_pat.append([1,4,7])\n",
    "    win_pat.append([2,5,8])\n",
    "    win_pat.append([3,6,9])\n",
    "    win_pat.append([1,5,9])\n",
    "    win_pat.append([3,5,7])\n",
    "    \n",
    "    # let us construct the current pattern of current mark\n",
    "    cur_pat = []\n",
    "    for i in range(0,len(board)):\n",
    "        if board[i].lower() == mark.lower():\n",
    "            cur_pat.append(i+1)\n",
    "    \n",
    "    # print(f'current board state: {board}')\n",
    "    # print(f'win patterns: {win_pat}')\n",
    "    # print(f'current pattern: {cur_pat}')\n",
    "    \n",
    "    # let us search if the indexes match\n",
    "    for wp in win_pat:\n",
    "        if wp[0] in cur_pat and wp[1] in cur_pat and wp[2] in cur_pat:\n",
    "            return True\n",
    "\n",
    "    return False"
   ]
  },
  {
   "cell_type": "code",
   "execution_count": 8,
   "id": "298c8b58",
   "metadata": {},
   "outputs": [],
   "source": [
    "# win_check(test_board,'O')"
   ]
  },
  {
   "cell_type": "code",
   "execution_count": 9,
   "id": "e7da27b9",
   "metadata": {},
   "outputs": [],
   "source": [
    "import random\n",
    "\n",
    "def choose_first():\n",
    "    ret = random.randint(1,2)\n",
    "    print(f'Player {ret} will go first')\n",
    "    return ret"
   ]
  },
  {
   "cell_type": "code",
   "execution_count": 10,
   "id": "d9f390b8",
   "metadata": {},
   "outputs": [],
   "source": [
    "# choose_first()"
   ]
  },
  {
   "cell_type": "code",
   "execution_count": 11,
   "id": "6df56c73",
   "metadata": {},
   "outputs": [],
   "source": [
    "def space_check(board, position):\n",
    "    va = board[position-1].lower()\n",
    "    if va == 'x' or va == 'o':\n",
    "        return False\n",
    "    return True"
   ]
  },
  {
   "cell_type": "code",
   "execution_count": 12,
   "id": "29282dbc",
   "metadata": {},
   "outputs": [],
   "source": [
    "# print(test_board)\n",
    "# space_check(test_board, 1)"
   ]
  },
  {
   "cell_type": "code",
   "execution_count": 13,
   "id": "f951a8e5",
   "metadata": {},
   "outputs": [],
   "source": [
    "def full_board_check(board):\n",
    "    for i in range(0, len(board)):\n",
    "        if space_check(board, i+1):\n",
    "            return False\n",
    "    return True"
   ]
  },
  {
   "cell_type": "code",
   "execution_count": 14,
   "id": "1f9e5267",
   "metadata": {},
   "outputs": [],
   "source": [
    "# test_board[0] = 'O'\n",
    "# full_board_check(test_board)"
   ]
  },
  {
   "cell_type": "code",
   "execution_count": 15,
   "id": "775901c6",
   "metadata": {},
   "outputs": [],
   "source": [
    "def player_choice(board):\n",
    "    inpt = ''\n",
    "    while True:\n",
    "        inpt = input('Choose a position between 1 and 9\\n')\n",
    "        if inpt.isdigit():\n",
    "            if int(inpt) in range (1,10):\n",
    "                if not space_check(board, int(inpt)):\n",
    "                    print(f'Position {inpt} not available')\n",
    "                else:\n",
    "                    break\n",
    "    return int(inpt)"
   ]
  },
  {
   "cell_type": "code",
   "execution_count": 16,
   "id": "aa3d8dd2",
   "metadata": {},
   "outputs": [],
   "source": [
    "# player_choice(test_board)"
   ]
  },
  {
   "cell_type": "code",
   "execution_count": 17,
   "id": "a0e7a058",
   "metadata": {},
   "outputs": [],
   "source": [
    "def replay():\n",
    "    \n",
    "    inpt = 'bad'\n",
    "    \n",
    "    while True:\n",
    "        inpt = input('Do you want to play again? (Y/N)\\n').lower()\n",
    "        \n",
    "        if not inpt.lower() in ['y','n']:\n",
    "            print(\"Choose between 'y' or 'n'\")\n",
    "        else:\n",
    "            if inpt.lower() == 'y':\n",
    "                return True\n",
    "            else:\n",
    "                return False"
   ]
  },
  {
   "cell_type": "code",
   "execution_count": 18,
   "id": "d419849c",
   "metadata": {},
   "outputs": [],
   "source": [
    "# replay()"
   ]
  },
  {
   "cell_type": "code",
   "execution_count": 19,
   "id": "1c3f4f83",
   "metadata": {},
   "outputs": [
    {
     "name": "stdout",
     "output_type": "stream",
     "text": [
      "|---|---|---|\n",
      "| O | 8 | 9 |\n",
      "|---|---|---|\n",
      "| X | O | X |\n",
      "|---|---|---|\n",
      "| O | X | O |\n",
      "|---|---|---|\n",
      "Player 2 won!\n",
      "Do you want to play again? (Y/N)\n",
      "n\n"
     ]
    }
   ],
   "source": [
    "print('Welcome to Tic Tac Toe!')\n",
    "\n",
    "while True:\n",
    "    player_info = {}\n",
    "    \n",
    "    p1Mrk = player_input()\n",
    "    p2Mrk = 'O'\n",
    "\n",
    "    if p1Mrk != 'X':\n",
    "        p2Mrk = 'X'\n",
    "\n",
    "    first = choose_first()\n",
    "\n",
    "    player_info = { 1: p1Mrk, 2: p2Mrk }\n",
    "    \n",
    "    inpt = str(input(\"Are you ready to play? Enter 'Y' or 'N'\\n\")).lower()\n",
    "    \n",
    "    if inpt == 'y':\n",
    "        main_board = [\"1\",\"2\",\"3\",\"4\",\"5\",\"6\",\"7\",\"8\",\"9\"]\n",
    "        \n",
    "        game_on = True\n",
    "        \n",
    "        switchingPlayer = True\n",
    "        \n",
    "        currentPlayer = 0\n",
    "        \n",
    "        while game_on:\n",
    "            \n",
    "            display_board(main_board)\n",
    "            \n",
    "            if first != -1:\n",
    "                print(f'Player {first} will go first ({player_info[first]})\\n')\n",
    "                if first == 1:\n",
    "                    switchingPlayer = True\n",
    "                    currentPlayer = 1\n",
    "                elif first == 2:\n",
    "                    switchingPlayer = False\n",
    "                    currentPlayer = 2\n",
    "                first = -1\n",
    "            else:\n",
    "                if switchingPlayer:\n",
    "                    switchingPlayer = False\n",
    "                    currentPlayer = 2\n",
    "                    print(f'Player 2 turn ({player_info[currentPlayer]})\\n')\n",
    "                    \n",
    "                else:\n",
    "                    switchingPlayer = True\n",
    "                    currentPlayer = 1\n",
    "                    print(f'Player 1 turn ({player_info[currentPlayer]})\\n')\n",
    "            \n",
    "            pch = player_choice(main_board)\n",
    "            \n",
    "            main_board = place_marker(main_board,player_info[currentPlayer],pch)\n",
    "            \n",
    "            if full_board_check(main_board):\n",
    "                game_on = False\n",
    "            \n",
    "            if win_check(main_board, player_info[currentPlayer]):\n",
    "                display_board(main_board)\n",
    "                print(f'Player {currentPlayer} won!')\n",
    "                game_on = False\n",
    "            \n",
    "            if not game_on:\n",
    "                break\n",
    "    else:\n",
    "        break\n",
    "        \n",
    "    if not replay():\n",
    "        break"
   ]
  },
  {
   "cell_type": "code",
   "execution_count": null,
   "id": "a98e48da",
   "metadata": {},
   "outputs": [],
   "source": []
  }
 ],
 "metadata": {
  "kernelspec": {
   "display_name": "Python 3",
   "language": "python",
   "name": "python3"
  },
  "language_info": {
   "codemirror_mode": {
    "name": "ipython",
    "version": 3
   },
   "file_extension": ".py",
   "mimetype": "text/x-python",
   "name": "python",
   "nbconvert_exporter": "python",
   "pygments_lexer": "ipython3",
   "version": "3.8.9"
  }
 },
 "nbformat": 4,
 "nbformat_minor": 5
}
