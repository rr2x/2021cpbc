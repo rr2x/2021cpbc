{
 "cells": [
  {
   "cell_type": "code",
   "execution_count": 1,
   "id": "7c7a5bf6",
   "metadata": {},
   "outputs": [],
   "source": [
    "from IPython.display import clear_output\n",
    "\n",
    "def display_board(board):\n",
    "    clear_output()\n",
    "    print(board[7]+'|'+board[8]+'|'+board[9])\n",
    "    print(board[4]+'|'+board[5]+'|'+board[6])\n",
    "    print(board[1]+'|'+board[2]+'|'+board[3])"
   ]
  },
  {
   "cell_type": "code",
   "execution_count": 2,
   "id": "b01f8495",
   "metadata": {},
   "outputs": [],
   "source": [
    "# test_board = ['#','X','O','X','O','X','O','X','O','X']\n",
    "# display_board(test_board)"
   ]
  },
  {
   "cell_type": "code",
   "execution_count": 3,
   "id": "3fafcb78",
   "metadata": {},
   "outputs": [],
   "source": [
    "def player_input():\n",
    "    '''\n",
    "    OUTPUT = (Player 1 marker, Player 2 marker)\n",
    "    '''\n",
    "    marker = ''\n",
    "    while not marker == 'X' or marker == 'O':\n",
    "        marker = input('Player1: Choose X or O:').upper()\n",
    "    if marker == 'X':\n",
    "        return ('X','O')\n",
    "    else:\n",
    "        return ('O','X')"
   ]
  },
  {
   "cell_type": "code",
   "execution_count": 4,
   "id": "2a53b2a6",
   "metadata": {},
   "outputs": [],
   "source": [
    "# player1_marker, player2_marker = player_input()"
   ]
  },
  {
   "cell_type": "code",
   "execution_count": 5,
   "id": "b953a5e6",
   "metadata": {},
   "outputs": [],
   "source": [
    "def place_marker(board, marker, position):\n",
    "    board[position] = marker"
   ]
  },
  {
   "cell_type": "code",
   "execution_count": 6,
   "id": "a4d388a6",
   "metadata": {},
   "outputs": [],
   "source": [
    "# place_marker(test_board,'$',8)\n",
    "# display_board(test_board)"
   ]
  },
  {
   "cell_type": "code",
   "execution_count": 7,
   "id": "644f6573",
   "metadata": {},
   "outputs": [],
   "source": [
    "def win_check(board, mark):\n",
    "    # WIN TIC TAC TOE?\n",
    "    \n",
    "    return ((board[7] == board[8] == board[9] == mark) or\n",
    "    (board[4] == board[5] == board[6] == mark) or\n",
    "    (board[1] == board[2] == board[3] == mark) or\n",
    "    (board[7] == board[4] == board[1] == mark) or\n",
    "    (board[8] == board[5] == board[2] == mark) or\n",
    "    (board[9] == board[6] == board[3] == mark) or\n",
    "    (board[7] == board[5] == board[3] == mark) or\n",
    "    (board[9] == board[5] == board[1] == mark))"
   ]
  },
  {
   "cell_type": "code",
   "execution_count": 8,
   "id": "e5d172b0",
   "metadata": {},
   "outputs": [],
   "source": [
    "# display_board(test_board)\n",
    "# win_check(test_board, 'X')"
   ]
  },
  {
   "cell_type": "code",
   "execution_count": 9,
   "id": "7864bd73",
   "metadata": {},
   "outputs": [],
   "source": [
    "import random\n",
    "\n",
    "def choose_first():\n",
    "    flip = random.randint(0,1)\n",
    "    if flip == 0:\n",
    "        return 'Player 1'\n",
    "    else:\n",
    "        return 'Player 2'"
   ]
  },
  {
   "cell_type": "code",
   "execution_count": 10,
   "id": "3b80074a",
   "metadata": {},
   "outputs": [],
   "source": [
    "def space_check(board, position):\n",
    "    return board[position] == ' '"
   ]
  },
  {
   "cell_type": "code",
   "execution_count": 11,
   "id": "96f96c14",
   "metadata": {},
   "outputs": [],
   "source": [
    "def full_board_check(board):\n",
    "    for i in range(1,10):\n",
    "        if space_check(board, i):\n",
    "            return False\n",
    "    # board is full if return True\n",
    "    return True"
   ]
  },
  {
   "cell_type": "code",
   "execution_count": 12,
   "id": "94bddc20",
   "metadata": {},
   "outputs": [],
   "source": [
    "def player_choice(board):\n",
    "    position = 0\n",
    "    while position not in [1,2,3,4,5,6,7,8,9] or not space_check(board, position):\n",
    "        position = int(input('Choose a position: (1-9) '))\n",
    "    return position"
   ]
  },
  {
   "cell_type": "code",
   "execution_count": 13,
   "id": "b7a0f94e",
   "metadata": {},
   "outputs": [],
   "source": [
    "def replay():\n",
    "    choice = input(\"Play again? Enter 'Yes' or 'No'\")\n",
    "    return choice == 'Yes'"
   ]
  },
  {
   "cell_type": "code",
   "execution_count": 14,
   "id": "5816402d",
   "metadata": {},
   "outputs": [
    {
     "name": "stdout",
     "output_type": "stream",
     "text": [
      "O|O|X\n",
      "X|X|O\n",
      "O|X|O\n",
      "TIE GAME!\n",
      "Play again? Enter 'Yes' or 'No'n\n"
     ]
    }
   ],
   "source": [
    "# while loop to keep running the game\n",
    "print('Welcome to Tic Tac Toe')\n",
    "\n",
    "while True:\n",
    "    # play the game\n",
    "    \n",
    "    ## set everything up (board, whos first, choose markers X,O\n",
    "    \n",
    "    the_board = [' ']*10\n",
    "    player1_marker,player2_marker = player_input()\n",
    "    \n",
    "    turn = choose_first()\n",
    "    print(turn + ' will go first.')\n",
    "    \n",
    "    play_game = input('Ready to play? y or n? ')\n",
    "    \n",
    "    if (play_game == 'y'):\n",
    "        game_on = True\n",
    "    else:\n",
    "        game_on = False\n",
    "\n",
    "    # game play\n",
    "    \n",
    "    while game_on:\n",
    "        if turn == 'Player 1': ## player 1 turn\n",
    "            # show the board\n",
    "            display_board(the_board)\n",
    "            # choose a position\n",
    "            position = player_choice(the_board)\n",
    "            # place the marker on the position\n",
    "            place_marker(the_board, player1_marker, position)\n",
    "            \n",
    "            # check if they won\n",
    "            if win_check(the_board, player1_marker):\n",
    "                display_board(the_board)\n",
    "                print('PLAYER 1 HAS WON')\n",
    "                game_on = False\n",
    "            else:\n",
    "                # or check if there is a tie\n",
    "                if full_board_check(the_board):\n",
    "                    display_board(the_board)\n",
    "                    print('TIE GAME!')\n",
    "                    break\n",
    "                else:\n",
    "                    # no tie and no win? then next player's turn\n",
    "                    turn = 'Player 2'\n",
    "        else: ## player 2 turn\n",
    "            # show the board\n",
    "            display_board(the_board)\n",
    "            # choose a position\n",
    "            position = player_choice(the_board)\n",
    "            # place the marker on the position\n",
    "            place_marker(the_board, player2_marker, position)\n",
    "            \n",
    "            # check if they won\n",
    "            if win_check(the_board, player2_marker):\n",
    "                display_board(the_board)\n",
    "                print('PLAYER 2 HAS WON')\n",
    "                game_on = False\n",
    "            else:\n",
    "                # or check if there is a tie\n",
    "                if full_board_check(the_board):\n",
    "                    display_board(the_board)\n",
    "                    print('TIE GAME!')\n",
    "                    break\n",
    "                else:\n",
    "                    # no tie and no win? then next player's turn\n",
    "                    turn = 'Player 1'\n",
    "    if not replay():\n",
    "        break\n",
    "    # break out of the while loop on the replay()"
   ]
  },
  {
   "cell_type": "code",
   "execution_count": null,
   "id": "a7ef3bb4",
   "metadata": {},
   "outputs": [],
   "source": []
  }
 ],
 "metadata": {
  "kernelspec": {
   "display_name": "Python 3",
   "language": "python",
   "name": "python3"
  },
  "language_info": {
   "codemirror_mode": {
    "name": "ipython",
    "version": 3
   },
   "file_extension": ".py",
   "mimetype": "text/x-python",
   "name": "python",
   "nbconvert_exporter": "python",
   "pygments_lexer": "ipython3",
   "version": "3.8.9"
  }
 },
 "nbformat": 4,
 "nbformat_minor": 5
}
