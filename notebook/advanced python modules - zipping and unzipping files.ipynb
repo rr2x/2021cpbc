{
 "cells": [
  {
   "cell_type": "code",
   "execution_count": 1,
   "id": "ffd9b6ef",
   "metadata": {},
   "outputs": [],
   "source": [
    "with open('fileone.txt','w+') as f:\n",
    "    f.write('ONE FILE')\n",
    "    f.close()"
   ]
  },
  {
   "cell_type": "code",
   "execution_count": 2,
   "id": "557e6fce",
   "metadata": {},
   "outputs": [],
   "source": [
    "with open('filetwo.txt','w+') as f:\n",
    "    f.write('TWO FILE')\n",
    "    f.close()"
   ]
  },
  {
   "cell_type": "code",
   "execution_count": 3,
   "id": "2bd50562",
   "metadata": {},
   "outputs": [],
   "source": [
    "import zipfile"
   ]
  },
  {
   "cell_type": "code",
   "execution_count": 4,
   "id": "13fbb22d",
   "metadata": {},
   "outputs": [],
   "source": [
    "with zipfile.ZipFile('comp_file.zip','w') as comp_file:\n",
    "    comp_file.write('fileone.txt',compress_type=zipfile.ZIP_DEFLATED)\n",
    "    comp_file.write('filetwo.txt',compress_type=zipfile.ZIP_DEFLATED)\n",
    "    comp_file.close()"
   ]
  },
  {
   "cell_type": "code",
   "execution_count": 5,
   "id": "a1506367",
   "metadata": {},
   "outputs": [],
   "source": [
    "with zipfile.ZipFile('comp_file.zip') as zip_obj:\n",
    "    zip_obj.extractall('extracted_content')\n",
    "    zip_obj.close()"
   ]
  },
  {
   "cell_type": "code",
   "execution_count": 6,
   "id": "acf1b8f4",
   "metadata": {},
   "outputs": [
    {
     "data": {
      "text/plain": [
       "'D:\\\\CODE\\\\TRAINING\\\\2021cpbc\\\\notebook'"
      ]
     },
     "execution_count": 6,
     "metadata": {},
     "output_type": "execute_result"
    }
   ],
   "source": [
    "pwd"
   ]
  },
  {
   "cell_type": "code",
   "execution_count": 7,
   "id": "826f0220",
   "metadata": {},
   "outputs": [],
   "source": [
    "import shutil"
   ]
  },
  {
   "cell_type": "code",
   "execution_count": 8,
   "id": "46339eb3",
   "metadata": {},
   "outputs": [],
   "source": [
    "dir_to_zip = 'D:\\\\CODE\\\\TRAINING\\\\2021cpbc\\\\notebook\\\\extracted_content'"
   ]
  },
  {
   "cell_type": "code",
   "execution_count": 9,
   "id": "c571116c",
   "metadata": {},
   "outputs": [],
   "source": [
    "output_filename = 'example'"
   ]
  },
  {
   "cell_type": "code",
   "execution_count": 10,
   "id": "a93aec4b",
   "metadata": {},
   "outputs": [
    {
     "data": {
      "text/plain": [
       "'D:\\\\CODE\\\\TRAINING\\\\2021cpbc\\\\notebook\\\\example.zip'"
      ]
     },
     "execution_count": 10,
     "metadata": {},
     "output_type": "execute_result"
    }
   ],
   "source": [
    "shutil.make_archive(output_filename,'zip',dir_to_zip)"
   ]
  },
  {
   "cell_type": "code",
   "execution_count": 11,
   "id": "d6608c90",
   "metadata": {},
   "outputs": [],
   "source": [
    "shutil.unpack_archive('example.zip','final_unzip','zip')"
   ]
  },
  {
   "cell_type": "code",
   "execution_count": null,
   "id": "e986948b",
   "metadata": {},
   "outputs": [],
   "source": []
  }
 ],
 "metadata": {
  "kernelspec": {
   "display_name": "Python 3",
   "language": "python",
   "name": "python3"
  },
  "language_info": {
   "codemirror_mode": {
    "name": "ipython",
    "version": 3
   },
   "file_extension": ".py",
   "mimetype": "text/x-python",
   "name": "python",
   "nbconvert_exporter": "python",
   "pygments_lexer": "ipython3",
   "version": "3.9.5"
  }
 },
 "nbformat": 4,
 "nbformat_minor": 5
}
