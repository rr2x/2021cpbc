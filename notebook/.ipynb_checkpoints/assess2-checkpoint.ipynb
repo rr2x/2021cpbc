{
 "cells": [
  {
   "cell_type": "code",
   "execution_count": 54,
   "id": "516c82bb",
   "metadata": {},
   "outputs": [
    {
     "name": "stdout",
     "output_type": "stream",
     "text": [
      "start\n",
      "s\n",
      "sentence\n"
     ]
    }
   ],
   "source": [
    "st = 'Print only words that start with s in this sentence'\n",
    "\n",
    "#list comprehension solution:\n",
    "new_statement = [print(word) for word in st.split() if word[0].lower()=='s']"
   ]
  },
  {
   "cell_type": "code",
   "execution_count": 55,
   "id": "de8eb9bc",
   "metadata": {},
   "outputs": [
    {
     "name": "stdout",
     "output_type": "stream",
     "text": [
      "start\n",
      "s\n",
      "sentence\n"
     ]
    }
   ],
   "source": [
    "#for loop solution:\n",
    "\n",
    "for word in st.split():\n",
    "    if word[0].lower() == 's':\n",
    "        print(word)"
   ]
  },
  {
   "cell_type": "code",
   "execution_count": 56,
   "id": "44849da2",
   "metadata": {},
   "outputs": [
    {
     "name": "stdout",
     "output_type": "stream",
     "text": [
      "0\n",
      "2\n",
      "4\n",
      "6\n",
      "8\n"
     ]
    }
   ],
   "source": [
    "for num in range(0,10):\n",
    "    if num%2 == 0:\n",
    "        print(num)"
   ]
  },
  {
   "cell_type": "code",
   "execution_count": 57,
   "id": "2c04308d",
   "metadata": {},
   "outputs": [
    {
     "data": {
      "text/plain": [
       "[0, 2, 4, 6, 8, 10]"
      ]
     },
     "execution_count": 57,
     "metadata": {},
     "output_type": "execute_result"
    }
   ],
   "source": [
    "list(range(0,11,2)) #alternative"
   ]
  },
  {
   "cell_type": "code",
   "execution_count": 58,
   "id": "07ee0396",
   "metadata": {},
   "outputs": [
    {
     "name": "stdout",
     "output_type": "stream",
     "text": [
      "0\n",
      "2\n",
      "4\n",
      "6\n",
      "8\n"
     ]
    }
   ],
   "source": [
    "new_list = [print(num) for num in range(0,10) if num%2==0]"
   ]
  },
  {
   "cell_type": "code",
   "execution_count": 59,
   "id": "ca0dca40",
   "metadata": {},
   "outputs": [
    {
     "data": {
      "text/plain": [
       "[3, 6, 9, 12, 15, 18, 21, 24, 27, 30, 33, 36, 39, 42, 45, 48]"
      ]
     },
     "execution_count": 59,
     "metadata": {},
     "output_type": "execute_result"
    }
   ],
   "source": [
    "new_list2 = [num for num in range(1,50) if num%3==0]\n",
    "new_list2"
   ]
  },
  {
   "cell_type": "code",
   "execution_count": 60,
   "id": "aab250e2",
   "metadata": {},
   "outputs": [
    {
     "name": "stdout",
     "output_type": "stream",
     "text": [
      "Print\n",
      "every\n",
      "even!\n",
      "even!\n",
      "even!\n",
      "even!\n",
      "even!\n",
      "has\n",
      "even!\n",
      "even!\n",
      "even!\n",
      "even!\n",
      "letters\n"
     ]
    }
   ],
   "source": [
    "st = 'Print every word in this sentence that has an even number of letters'\n",
    "for word in st.split():\n",
    "    if len(word)%2==0:\n",
    "        print('even!')\n",
    "    else:\n",
    "        print(word)"
   ]
  },
  {
   "cell_type": "code",
   "execution_count": 61,
   "id": "469fe19e",
   "metadata": {},
   "outputs": [
    {
     "name": "stdout",
     "output_type": "stream",
     "text": [
      "1\n",
      "2\n",
      "Number: 3, Answer: Fizz\n",
      "4\n",
      "Number: 5, Answer: Buzz\n",
      "Number: 6, Answer: Fizz\n",
      "7\n",
      "8\n",
      "Number: 9, Answer: Fizz\n",
      "Number: 10, Answer: Buzz\n",
      "11\n",
      "Number: 12, Answer: Fizz\n",
      "13\n",
      "14\n",
      "Number: 15, Answer: FizzBuzz\n",
      "16\n",
      "17\n",
      "Number: 18, Answer: Fizz\n",
      "19\n",
      "Number: 20, Answer: Buzz\n",
      "Number: 21, Answer: Fizz\n",
      "22\n",
      "23\n",
      "Number: 24, Answer: Fizz\n",
      "Number: 25, Answer: Buzz\n",
      "26\n",
      "Number: 27, Answer: Fizz\n",
      "28\n",
      "29\n",
      "Number: 30, Answer: FizzBuzz\n",
      "31\n",
      "32\n",
      "Number: 33, Answer: Fizz\n",
      "34\n",
      "Number: 35, Answer: Buzz\n",
      "Number: 36, Answer: Fizz\n",
      "37\n",
      "38\n",
      "Number: 39, Answer: Fizz\n",
      "Number: 40, Answer: Buzz\n",
      "41\n",
      "Number: 42, Answer: Fizz\n",
      "43\n",
      "44\n",
      "Number: 45, Answer: FizzBuzz\n",
      "46\n",
      "47\n",
      "Number: 48, Answer: Fizz\n",
      "49\n",
      "Number: 50, Answer: Buzz\n",
      "Number: 51, Answer: Fizz\n",
      "52\n",
      "53\n",
      "Number: 54, Answer: Fizz\n",
      "Number: 55, Answer: Buzz\n",
      "56\n",
      "Number: 57, Answer: Fizz\n",
      "58\n",
      "59\n",
      "Number: 60, Answer: FizzBuzz\n",
      "61\n",
      "62\n",
      "Number: 63, Answer: Fizz\n",
      "64\n",
      "Number: 65, Answer: Buzz\n",
      "Number: 66, Answer: Fizz\n",
      "67\n",
      "68\n",
      "Number: 69, Answer: Fizz\n",
      "Number: 70, Answer: Buzz\n",
      "71\n",
      "Number: 72, Answer: Fizz\n",
      "73\n",
      "74\n",
      "Number: 75, Answer: FizzBuzz\n",
      "76\n",
      "77\n",
      "Number: 78, Answer: Fizz\n",
      "79\n",
      "Number: 80, Answer: Buzz\n",
      "Number: 81, Answer: Fizz\n",
      "82\n",
      "83\n",
      "Number: 84, Answer: Fizz\n",
      "Number: 85, Answer: Buzz\n",
      "86\n",
      "Number: 87, Answer: Fizz\n",
      "88\n",
      "89\n",
      "Number: 90, Answer: FizzBuzz\n",
      "91\n",
      "92\n",
      "Number: 93, Answer: Fizz\n",
      "94\n",
      "Number: 95, Answer: Buzz\n",
      "Number: 96, Answer: Fizz\n",
      "97\n",
      "98\n",
      "Number: 99, Answer: Fizz\n"
     ]
    }
   ],
   "source": [
    "for num in range(1,100):\n",
    "    if num%3 == 0 and num%5 == 0:\n",
    "        print('FizzBuzz')\n",
    "    elif num%3 == 0:\n",
    "        print('Fizz')\n",
    "    elif num%5 == 0:\n",
    "        print('Buzz')\n",
    "    else:\n",
    "        print(num)"
   ]
  },
  {
   "cell_type": "code",
   "execution_count": 62,
   "id": "2a436265",
   "metadata": {},
   "outputs": [
    {
     "data": {
      "text/plain": [
       "['C', 'a', 'l', 'o', 't', 'f', 'l', 'o', 'e', 'w', 'i', 't', 's']"
      ]
     },
     "execution_count": 62,
     "metadata": {},
     "output_type": "execute_result"
    }
   ],
   "source": [
    "st = 'Create a list of the first letters of every word in this string'\n",
    "new_list = [letters[0] for letters in st.split()]\n",
    "new_list"
   ]
  }
 ],
 "metadata": {
  "kernelspec": {
   "display_name": "Python 3",
   "language": "python",
   "name": "python3"
  },
  "language_info": {
   "codemirror_mode": {
    "name": "ipython",
    "version": 3
   },
   "file_extension": ".py",
   "mimetype": "text/x-python",
   "name": "python",
   "nbconvert_exporter": "python",
   "pygments_lexer": "ipython3",
   "version": "3.8.9"
  }
 },
 "nbformat": 4,
 "nbformat_minor": 5
}
