{
 "cells": [
  {
   "cell_type": "code",
   "execution_count": 1,
   "id": "dce819f4",
   "metadata": {},
   "outputs": [],
   "source": [
    "def vol(rad):\n",
    "    return 4/3*(3.14*(rad**3))"
   ]
  },
  {
   "cell_type": "code",
   "execution_count": 2,
   "id": "7f7daaf5",
   "metadata": {},
   "outputs": [
    {
     "data": {
      "text/plain": [
       "33.49333333333333"
      ]
     },
     "execution_count": 2,
     "metadata": {},
     "output_type": "execute_result"
    }
   ],
   "source": [
    "vol(2)"
   ]
  },
  {
   "cell_type": "code",
   "execution_count": 3,
   "id": "1a2bb5d3",
   "metadata": {},
   "outputs": [],
   "source": [
    "def ran_check(num, low, high):\n",
    "    if num in range(low,high+1):\n",
    "        print(f'{num} is in the range between {low} and {high}');\n",
    "    else:\n",
    "        print(f'{num} is not in the range between {low} and {high}');"
   ]
  },
  {
   "cell_type": "code",
   "execution_count": 4,
   "id": "b71c3dd2",
   "metadata": {},
   "outputs": [
    {
     "name": "stdout",
     "output_type": "stream",
     "text": [
      "5 is in the range between 2 and 7\n"
     ]
    }
   ],
   "source": [
    "ran_check(5,2,7)"
   ]
  },
  {
   "cell_type": "code",
   "execution_count": 5,
   "id": "acfd25e9",
   "metadata": {},
   "outputs": [],
   "source": [
    "def ran_bool(num, low, high)->bool:\n",
    "    return num in range(low,high+1)"
   ]
  },
  {
   "cell_type": "code",
   "execution_count": 6,
   "id": "96b5807c",
   "metadata": {},
   "outputs": [
    {
     "data": {
      "text/plain": [
       "True"
      ]
     },
     "execution_count": 6,
     "metadata": {},
     "output_type": "execute_result"
    }
   ],
   "source": [
    "ran_bool(3,1,10)"
   ]
  },
  {
   "cell_type": "code",
   "execution_count": 7,
   "id": "253650dd",
   "metadata": {},
   "outputs": [],
   "source": [
    "def up_low(s: str):\n",
    "    upper_count = len(list(filter(lambda n:n.isupper(), s)))\n",
    "    lower_count = len(list(filter(lambda n:n.islower(), s)))\n",
    "        \n",
    "    print(f'Original String : {s}')\n",
    "    print(f'No. of Upper case characters : {upper_count}')\n",
    "    print(f'No. of Lower case characters : {lower_count}')"
   ]
  },
  {
   "cell_type": "code",
   "execution_count": 8,
   "id": "ba1793c7",
   "metadata": {},
   "outputs": [
    {
     "name": "stdout",
     "output_type": "stream",
     "text": [
      "Original String : Hello Mr. Rogers, how are you this fine Tuesday?\n",
      "No. of Upper case characters : 4\n",
      "No. of Lower case characters : 33\n"
     ]
    }
   ],
   "source": [
    "s = 'Hello Mr. Rogers, how are you this fine Tuesday?'\n",
    "up_low(s)"
   ]
  },
  {
   "cell_type": "code",
   "execution_count": 9,
   "id": "f6f4a862",
   "metadata": {},
   "outputs": [],
   "source": [
    "def unique_list(lst:list)->list:\n",
    "    return list(set(lst))"
   ]
  },
  {
   "cell_type": "code",
   "execution_count": 10,
   "id": "e50010e9",
   "metadata": {},
   "outputs": [
    {
     "data": {
      "text/plain": [
       "[1, 2, 3, 4, 5]"
      ]
     },
     "execution_count": 10,
     "metadata": {},
     "output_type": "execute_result"
    }
   ],
   "source": [
    "unique_list([1,1,1,1,2,2,3,3,3,3,4,5])"
   ]
  },
  {
   "cell_type": "code",
   "execution_count": 11,
   "id": "40097acc",
   "metadata": {},
   "outputs": [],
   "source": [
    "def multiply(numbers):\n",
    "    ans = 0;\n",
    "    first_instance = False\n",
    "    \n",
    "    while len(numbers) > 0:\n",
    "        if not first_instance:\n",
    "            ans = numbers.pop()\n",
    "            first_instance = True\n",
    "            continue\n",
    "        ans *= numbers.pop()\n",
    "        \n",
    "    return ans"
   ]
  },
  {
   "cell_type": "code",
   "execution_count": 12,
   "id": "3e921c2f",
   "metadata": {},
   "outputs": [
    {
     "data": {
      "text/plain": [
       "-24"
      ]
     },
     "execution_count": 12,
     "metadata": {},
     "output_type": "execute_result"
    }
   ],
   "source": [
    "multiply([1,2,3,-4])"
   ]
  },
  {
   "cell_type": "code",
   "execution_count": 13,
   "id": "f80c166d",
   "metadata": {},
   "outputs": [],
   "source": [
    "def palindrome(s):\n",
    "    s = s.replace(' ','').lower()\n",
    "    return s == s[::-1]"
   ]
  },
  {
   "cell_type": "code",
   "execution_count": 14,
   "id": "2de454ac",
   "metadata": {},
   "outputs": [
    {
     "data": {
      "text/plain": [
       "True"
      ]
     },
     "execution_count": 14,
     "metadata": {},
     "output_type": "execute_result"
    }
   ],
   "source": [
    "palindrome('helleh')"
   ]
  },
  {
   "cell_type": "code",
   "execution_count": 15,
   "id": "006fb40c",
   "metadata": {},
   "outputs": [
    {
     "data": {
      "text/plain": [
       "True"
      ]
     },
     "execution_count": 15,
     "metadata": {},
     "output_type": "execute_result"
    }
   ],
   "source": [
    "palindrome('nurses run')"
   ]
  },
  {
   "cell_type": "code",
   "execution_count": 16,
   "id": "e6369f94",
   "metadata": {},
   "outputs": [],
   "source": [
    "import string\n",
    "\n",
    "def ispangram(str1, alphabet=string.ascii_lowercase):\n",
    "    new_list = list(set(str1.replace(' ','').lower()))\n",
    "    new_list.sort()\n",
    "    \n",
    "    for n in range(0,len(new_list)):\n",
    "        if new_list[n] in alphabet:\n",
    "            alphabet = alphabet.replace(new_list[n],'')\n",
    "    \n",
    "    return len(alphabet) == 0"
   ]
  },
  {
   "cell_type": "code",
   "execution_count": 17,
   "id": "a2cf7fbb",
   "metadata": {},
   "outputs": [
    {
     "data": {
      "text/plain": [
       "True"
      ]
     },
     "execution_count": 17,
     "metadata": {},
     "output_type": "execute_result"
    }
   ],
   "source": [
    "ispangram('The quick brown fox jumps over the lazy dog')"
   ]
  },
  {
   "cell_type": "code",
   "execution_count": 18,
   "id": "9ab49e21",
   "metadata": {},
   "outputs": [],
   "source": [
    "import string\n",
    "\n",
    "def ispangram2(str1, alphabet=string.ascii_lowercase):\n",
    "    return set(str1.replace(' ','').lower()) == set(alphabet)"
   ]
  },
  {
   "cell_type": "code",
   "execution_count": 19,
   "id": "94e70a61",
   "metadata": {},
   "outputs": [
    {
     "data": {
      "text/plain": [
       "True"
      ]
     },
     "execution_count": 19,
     "metadata": {},
     "output_type": "execute_result"
    }
   ],
   "source": [
    "ispangram('The quick brown fox jumps over the lazy dog')"
   ]
  }
 ],
 "metadata": {
  "kernelspec": {
   "display_name": "Python 3",
   "language": "python",
   "name": "python3"
  },
  "language_info": {
   "codemirror_mode": {
    "name": "ipython",
    "version": 3
   },
   "file_extension": ".py",
   "mimetype": "text/x-python",
   "name": "python",
   "nbconvert_exporter": "python",
   "pygments_lexer": "ipython3",
   "version": "3.8.9"
  }
 },
 "nbformat": 4,
 "nbformat_minor": 5
}
